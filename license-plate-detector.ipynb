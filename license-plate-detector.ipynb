{
 "cells": [
  {
   "cell_type": "code",
   "execution_count": 1,
   "id": "077ce379",
   "metadata": {},
   "outputs": [],
   "source": [
    "import gradio as gr\n",
    "import numpy as np\n",
    "from PIL import Image\n",
    "import cv2\n",
    "from ultralytics import YOLO\n",
    "from transformers import pipeline"
   ]
  },
  {
   "cell_type": "code",
   "execution_count": 3,
   "id": "b8e6fb53",
   "metadata": {},
   "outputs": [
    {
     "name": "stderr",
     "output_type": "stream",
     "text": [
      "Device set to use cpu\n"
     ]
    }
   ],
   "source": [
    "yolo_model = YOLO(\"license-plate-detector/weights/best.pt\")\n",
    "dino_model = pipeline(\"zero-shot-object-detection\", model=\"IDEA-Research/grounding-dino-base\")"
   ]
  },
  {
   "cell_type": "code",
   "execution_count": 4,
   "id": "e300a13c",
   "metadata": {},
   "outputs": [],
   "source": [
    "def detect_with_yolo(image: Image.Image):\n",
    "    results = yolo_model(np.array(image))[0]\n",
    "    return Image.fromarray(results.plot())\n",
    "\n",
    "def detect_with_grounding_dino(image: Image.Image, prompt=\"vehicle registration plate.\"):\n",
    "    results = dino_model(image, candidate_labels=[prompt])\n",
    "    image_np = np.array(image).copy()\n",
    "\n",
    "    if not results:\n",
    "        return Image.fromarray(image_np)\n",
    "\n",
    "    results = [result for result in results if result[\"score\"] > 0.4]\n",
    "\n",
    "    for result in results:\n",
    "        box = result[\"box\"]\n",
    "        score = result[\"score\"]\n",
    "        label = \"license plate\"\n",
    "\n",
    "        x1, y1, x2, y2 = int(box[\"xmin\"]), int(box[\"ymin\"]), int(box[\"xmax\"]), int(box[\"ymax\"])\n",
    "        image_np = cv2.rectangle(image_np, (x1, y1), (x2, y2), (0, 255, 0), 2)\n",
    "        image_np = cv2.putText(image_np, f\"{label} ({score:.2f})\", (x1, y1 - 10),\n",
    "                               cv2.FONT_HERSHEY_SIMPLEX, 0.5, (0, 255, 0), 1)\n",
    "\n",
    "    return Image.fromarray(image_np)"
   ]
  },
  {
   "cell_type": "code",
   "execution_count": 5,
   "id": "0cc0f1b0",
   "metadata": {},
   "outputs": [],
   "source": [
    "example_images = [\n",
    "    [\"example_images/2975157083_4567dde5d5_z.jpg\"],\n",
    "    [\"example_images/3984649872_216bc62270_z.jpg\"],\n",
    "    [\"example_images/6143184254_98522ca297_z.jpg\"]\n",
    "]"
   ]
  },
  {
   "cell_type": "code",
   "execution_count": 6,
   "id": "1cfe7f72",
   "metadata": {},
   "outputs": [],
   "source": [
    "def process_image(image):\n",
    "    yolo_out = detect_with_yolo(image)\n",
    "    dino_out = detect_with_grounding_dino(image)\n",
    "    return yolo_out, dino_out"
   ]
  },
  {
   "cell_type": "code",
   "execution_count": 8,
   "id": "320f1224",
   "metadata": {},
   "outputs": [
    {
     "name": "stdout",
     "output_type": "stream",
     "text": [
      "* Running on local URL:  http://127.0.0.1:7861\n",
      "* To create a public link, set `share=True` in `launch()`.\n"
     ]
    },
    {
     "data": {
      "text/html": [
       "<div><iframe src=\"http://127.0.0.1:7861/\" width=\"100%\" height=\"500\" allow=\"autoplay; camera; microphone; clipboard-read; clipboard-write;\" frameborder=\"0\" allowfullscreen></iframe></div>"
      ],
      "text/plain": [
       "<IPython.core.display.HTML object>"
      ]
     },
     "metadata": {},
     "output_type": "display_data"
    },
    {
     "data": {
      "text/plain": []
     },
     "execution_count": 8,
     "metadata": {},
     "output_type": "execute_result"
    }
   ],
   "source": [
    "gr.Interface(\n",
    "    fn=process_image,\n",
    "    inputs=gr.Image(type=\"pil\"),\n",
    "    outputs=[\n",
    "        gr.Image(label=\"YOLOv8 Detection\"),\n",
    "        gr.Image(label=\"Grounding DINO Detection\")\n",
    "    ],\n",
    "    examples=example_images,\n",
    "    title=\"Kennzeichenerkennung\",\n",
    "    description=\"Lade ein Bild hoch oder wähle ein Beispielbild und vergleiche die Ergebnisse.\"\n",
    ").launch()"
   ]
  }
 ],
 "metadata": {
  "kernelspec": {
   "display_name": "Python 3",
   "language": "python",
   "name": "python3"
  },
  "language_info": {
   "codemirror_mode": {
    "name": "ipython",
    "version": 3
   },
   "file_extension": ".py",
   "mimetype": "text/x-python",
   "name": "python",
   "nbconvert_exporter": "python",
   "pygments_lexer": "ipython3",
   "version": "3.13.2"
  }
 },
 "nbformat": 4,
 "nbformat_minor": 5
}
