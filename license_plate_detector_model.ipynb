{
  "cells": [
    {
      "cell_type": "code",
      "execution_count": null,
      "metadata": {
        "colab": {
          "base_uri": "https://localhost:8080/"
        },
        "id": "oTFtqTDl-R7r",
        "outputId": "1176781a-83be-432d-da76-cee33d0a7708"
      },
      "outputs": [
        {
          "name": "stdout",
          "output_type": "stream",
          "text": [
            "names:\n",
            "- license_plate\n",
            "nc: 1\n",
            "path: /content/dataset\n",
            "test: test/images\n",
            "train: train/images\n",
            "val: valid/images\n"
          ]
        }
      ],
      "source": [
        "import yaml\n",
        "\n",
        "data_yaml = {\n",
        "    'path': '/content/dataset',\n",
        "    'train': 'train/images',\n",
        "    'val': 'valid/images',\n",
        "    'test': 'test/images',\n",
        "    'names': ['license_plate'],\n",
        "    'nc': 1\n",
        "}\n",
        "\n",
        "with open('/content/dataset/data.yaml', 'w') as f:\n",
        "    yaml.dump(data_yaml, f)\n",
        "\n",
        "!cat /content/dataset/data.yaml"
      ]
    },
    {
      "cell_type": "code",
      "execution_count": null,
      "metadata": {
        "colab": {
          "base_uri": "https://localhost:8080/"
        },
        "id": "G7_qI25-6JjK",
        "outputId": "ee3d75bc-6331-408a-924d-57585f8c691e"
      },
      "outputs": [
        {
          "name": "stdout",
          "output_type": "stream",
          "text": [
            "Ultralytics 8.3.140 🚀 Python-3.11.12 torch-2.6.0+cu124 CUDA:0 (Tesla T4, 15095MiB)\n",
            "\u001b[34m\u001b[1mengine/trainer: \u001b[0magnostic_nms=False, amp=True, augment=True, auto_augment=randaugment, batch=16, bgr=0.0, box=7.5, cache=False, cfg=None, classes=None, close_mosaic=10, cls=0.5, conf=None, copy_paste=0.0, copy_paste_mode=flip, cos_lr=False, cutmix=0.0, data=/content/dataset/data.yaml, degrees=0.0, deterministic=True, device=0, dfl=1.5, dnn=False, dropout=0.0, dynamic=False, embed=None, epochs=50, erasing=0.4, exist_ok=False, fliplr=0.5, flipud=0.0, format=torchscript, fraction=1.0, freeze=None, half=False, hsv_h=0.015, hsv_s=0.7, hsv_v=0.4, imgsz=416, int8=False, iou=0.7, keras=False, kobj=1.0, line_width=None, lr0=0.01, lrf=0.01, mask_ratio=4, max_det=300, mixup=0.0, mode=train, model=yolov8n.pt, momentum=0.937, mosaic=1.0, multi_scale=False, name=license-plate2, nbs=64, nms=False, opset=None, optimize=False, optimizer=SGD, overlap_mask=True, patience=5, perspective=0.0, plots=True, pose=12.0, pretrained=True, profile=False, project=None, rect=False, resume=False, retina_masks=False, save=True, save_conf=False, save_crop=False, save_dir=runs/detect/license-plate2, save_frames=False, save_json=False, save_period=-1, save_txt=False, scale=0.5, seed=0, shear=0.0, show=False, show_boxes=True, show_conf=True, show_labels=True, simplify=True, single_cls=False, source=None, split=val, stream_buffer=False, task=detect, time=None, tracker=botsort.yaml, translate=0.1, val=True, verbose=True, vid_stride=1, visualize=False, warmup_bias_lr=0.1, warmup_epochs=3.0, warmup_momentum=0.8, weight_decay=0.0005, workers=2, workspace=None\n",
            "Downloading https://ultralytics.com/assets/Arial.ttf to '/root/.config/Ultralytics/Arial.ttf'...\n"
          ]
        },
        {
          "name": "stderr",
          "output_type": "stream",
          "text": [
            "100%|██████████| 755k/755k [00:00<00:00, 20.7MB/s]"
          ]
        },
        {
          "name": "stdout",
          "output_type": "stream",
          "text": [
            "Overriding model.yaml nc=80 with nc=1\n",
            "\n",
            "                   from  n    params  module                                       arguments                     \n",
            "  0                  -1  1       464  ultralytics.nn.modules.conv.Conv             [3, 16, 3, 2]                 \n",
            "  1                  -1  1      4672  ultralytics.nn.modules.conv.Conv             [16, 32, 3, 2]                \n",
            "  2                  -1  1      7360  ultralytics.nn.modules.block.C2f             [32, 32, 1, True]             \n",
            "  3                  -1  1     18560  ultralytics.nn.modules.conv.Conv             [32, 64, 3, 2]                \n",
            "  4                  -1  2     49664  ultralytics.nn.modules.block.C2f             [64, 64, 2, True]             \n",
            "  5                  -1  1     73984  ultralytics.nn.modules.conv.Conv             [64, 128, 3, 2]               \n",
            "  6                  -1  2    197632  ultralytics.nn.modules.block.C2f             [128, 128, 2, True]           \n",
            "  7                  -1  1    295424  ultralytics.nn.modules.conv.Conv             [128, 256, 3, 2]              \n",
            "  8                  -1  1    460288  ultralytics.nn.modules.block.C2f             [256, 256, 1, True]           \n"
          ]
        },
        {
          "name": "stderr",
          "output_type": "stream",
          "text": [
            "\n"
          ]
        },
        {
          "name": "stdout",
          "output_type": "stream",
          "text": [
            "  9                  -1  1    164608  ultralytics.nn.modules.block.SPPF            [256, 256, 5]                 \n",
            " 10                  -1  1         0  torch.nn.modules.upsampling.Upsample         [None, 2, 'nearest']          \n",
            " 11             [-1, 6]  1         0  ultralytics.nn.modules.conv.Concat           [1]                           \n",
            " 12                  -1  1    148224  ultralytics.nn.modules.block.C2f             [384, 128, 1]                 \n",
            " 13                  -1  1         0  torch.nn.modules.upsampling.Upsample         [None, 2, 'nearest']          \n",
            " 14             [-1, 4]  1         0  ultralytics.nn.modules.conv.Concat           [1]                           \n",
            " 15                  -1  1     37248  ultralytics.nn.modules.block.C2f             [192, 64, 1]                  \n",
            " 16                  -1  1     36992  ultralytics.nn.modules.conv.Conv             [64, 64, 3, 2]                \n",
            " 17            [-1, 12]  1         0  ultralytics.nn.modules.conv.Concat           [1]                           \n",
            " 18                  -1  1    123648  ultralytics.nn.modules.block.C2f             [192, 128, 1]                 \n",
            " 19                  -1  1    147712  ultralytics.nn.modules.conv.Conv             [128, 128, 3, 2]              \n",
            " 20             [-1, 9]  1         0  ultralytics.nn.modules.conv.Concat           [1]                           \n",
            " 21                  -1  1    493056  ultralytics.nn.modules.block.C2f             [384, 256, 1]                 \n",
            " 22        [15, 18, 21]  1    751507  ultralytics.nn.modules.head.Detect           [1, [64, 128, 256]]           \n",
            "Model summary: 129 layers, 3,011,043 parameters, 3,011,027 gradients, 8.2 GFLOPs\n",
            "\n",
            "Transferred 319/355 items from pretrained weights\n",
            "Freezing layer 'model.22.dfl.conv.weight'\n",
            "\u001b[34m\u001b[1mAMP: \u001b[0mrunning Automatic Mixed Precision (AMP) checks...\n",
            "Downloading https://github.com/ultralytics/assets/releases/download/v8.3.0/yolo11n.pt to 'yolo11n.pt'...\n"
          ]
        },
        {
          "name": "stderr",
          "output_type": "stream",
          "text": [
            "100%|██████████| 5.35M/5.35M [00:00<00:00, 116MB/s]\n"
          ]
        },
        {
          "name": "stdout",
          "output_type": "stream",
          "text": [
            "\u001b[34m\u001b[1mAMP: \u001b[0mchecks passed ✅\n",
            "\u001b[34m\u001b[1mtrain: \u001b[0mFast image access ✅ (ping: 0.0±0.0 ms, read: 1230.3±374.3 MB/s, size: 43.1 KB)\n"
          ]
        },
        {
          "name": "stderr",
          "output_type": "stream",
          "text": [
            "\u001b[34m\u001b[1mtrain: \u001b[0mScanning /content/dataset/train/labels... 21146 images, 0 backgrounds, 2 corrupt: 100%|██████████| 21146/21146 [00:08<00:00, 2360.24it/s]"
          ]
        },
        {
          "name": "stdout",
          "output_type": "stream",
          "text": [
            "\u001b[34m\u001b[1mtrain: \u001b[0m/content/dataset/train/images/cars-1_jpg.rf.470c18d3b315c4e55d43537b060b4aa1.jpg: ignoring corrupt image/label: Label class 1 exceeds dataset class count 1. Possible class labels are 0-0\n",
            "\u001b[34m\u001b[1mtrain: \u001b[0m/content/dataset/train/images/k718hsc523m71_jpg.rf.d77f97cf3f4da8319203e3bcf14e4cb8.jpg: ignoring corrupt image/label: Label class 1 exceeds dataset class count 1. Possible class labels are 0-0\n"
          ]
        },
        {
          "name": "stderr",
          "output_type": "stream",
          "text": [
            "\n"
          ]
        },
        {
          "name": "stdout",
          "output_type": "stream",
          "text": [
            "\u001b[34m\u001b[1mtrain: \u001b[0mNew cache created: /content/dataset/train/labels.cache\n",
            "\u001b[34m\u001b[1malbumentations: \u001b[0mBlur(p=0.01, blur_limit=(3, 7)), MedianBlur(p=0.01, blur_limit=(3, 7)), ToGray(p=0.01, method='weighted_average', num_output_channels=3), CLAHE(p=0.01, clip_limit=(1.0, 4.0), tile_grid_size=(8, 8))\n",
            "\u001b[34m\u001b[1mval: \u001b[0mFast image access ✅ (ping: 0.0±0.0 ms, read: 934.8±501.8 MB/s, size: 42.7 KB)\n"
          ]
        },
        {
          "name": "stderr",
          "output_type": "stream",
          "text": [
            "\u001b[34m\u001b[1mval: \u001b[0mScanning /content/dataset/valid/labels... 2078 images, 0 backgrounds, 35 corrupt: 100%|██████████| 2078/2078 [00:01<00:00, 1641.78it/s]"
          ]
        },
        {
          "name": "stdout",
          "output_type": "stream",
          "text": [
            "\u001b[34m\u001b[1mval: \u001b[0m/content/dataset/valid/images/0282baf98ff779230623af70dfc28895_jpg.rf.63cbbc8d21c29931a4cc7f152e00d337.jpg: ignoring corrupt image/label: Label class 1 exceeds dataset class count 1. Possible class labels are 0-0\n",
            "\u001b[34m\u001b[1mval: \u001b[0m/content/dataset/valid/images/1613208658140820913-1-_jpg.rf.2dd12ff9cdf7119a826f89da11b315d5.jpg: ignoring corrupt image/label: Label class 1 exceeds dataset class count 1. Possible class labels are 0-0\n",
            "\u001b[34m\u001b[1mval: \u001b[0m/content/dataset/valid/images/1613208817188155778_jpg.rf.99ec1c97029831e7115bd923cb0b8267.jpg: ignoring corrupt image/label: Label class 1 exceeds dataset class count 1. Possible class labels are 0-0\n",
            "\u001b[34m\u001b[1mval: \u001b[0m/content/dataset/valid/images/1928-230km_jpg.rf.09851fef50e8c3d1695a20c0f322f8ce.jpg: ignoring corrupt image/label: Label class 1 exceeds dataset class count 1. Possible class labels are 0-0\n",
            "\u001b[34m\u001b[1mval: \u001b[0m/content/dataset/valid/images/2444d1b8feb31432cc44d74a47e917b8_jpg.rf.c43c851b8a94f9a1e7dc8144b5404520.jpg: ignoring corrupt image/label: Label class 1 exceeds dataset class count 1. Possible class labels are 0-0\n",
            "\u001b[34m\u001b[1mval: \u001b[0m/content/dataset/valid/images/26066932_jpg.rf.4ff72612525d87d7962ac0860d3f1d26.jpg: ignoring corrupt image/label: Label class 1 exceeds dataset class count 1. Possible class labels are 0-0\n",
            "\u001b[34m\u001b[1mval: \u001b[0m/content/dataset/valid/images/26783338_jpg.rf.a9ab9c1fa1e97ff13dc606f58da426bf.jpg: ignoring corrupt image/label: Label class 1 exceeds dataset class count 1. Possible class labels are 0-0\n",
            "\u001b[34m\u001b[1mval: \u001b[0m/content/dataset/valid/images/26856461_jpg.rf.ebc9365c3cc70dc11633487b5a3c604a.jpg: ignoring corrupt image/label: Label class 1 exceeds dataset class count 1. Possible class labels are 0-0\n",
            "\u001b[34m\u001b[1mval: \u001b[0m/content/dataset/valid/images/640px-Nottuln-_Stevertal-_BMW_i3_-_2019_-_7518_jpg.rf.8527ec9d8c5a36a33bc7ba1949ddf926.jpg: ignoring corrupt image/label: Label class 1 exceeds dataset class count 1. Possible class labels are 0-0\n",
            "\u001b[34m\u001b[1mval: \u001b[0m/content/dataset/valid/images/Car-with-controversial-number-plates-Razvan-Stefanescu-on-Facebook_jpg.rf.b3972a95ccafbb6a74cd80cbe3b07132.jpg: ignoring corrupt image/label: Label class 1 exceeds dataset class count 1. Possible class labels are 0-0\n",
            "\u001b[34m\u001b[1mval: \u001b[0m/content/dataset/valid/images/Car_with_export_license_plate_of_Finland_jpg.rf.1f05fa4a2cf084d7aad48f2a244b4bfd.jpg: ignoring corrupt image/label: Label class 1 exceeds dataset class count 1. Possible class labels are 0-0\n",
            "\u001b[34m\u001b[1mval: \u001b[0m/content/dataset/valid/images/Cars_and_bikes-_Lensfield_Road_-_geograph_org_uk_-_4758806_jpg.rf.0a8a848e865ed3d066c9e6fb3e49f6a1.jpg: ignoring corrupt image/label: Label class 1 exceeds dataset class count 1. Possible class labels are 0-0\n",
            "\u001b[34m\u001b[1mval: \u001b[0m/content/dataset/valid/images/Cars_on_the_Glossop_Road_-_geograph_org_uk_-_3046966_jpg.rf.8d4ee683c650a5b48403906f0e9ae9bd.jpg: ignoring corrupt image/label: Label class 1 exceeds dataset class count 1. Possible class labels are 0-0\n",
            "\u001b[34m\u001b[1mval: \u001b[0m/content/dataset/valid/images/Cars_on_the_road-_cars_on_the_train-_Emscote_Road-_Warwick_-_geograph_org_uk_-_5965006_jpg.rf.6256b59fbddc23a2e2ccb9ef3ed497d7.jpg: ignoring corrupt image/label: Label class 1 exceeds dataset class count 1. Possible class labels are 0-0\n",
            "\u001b[34m\u001b[1mval: \u001b[0m/content/dataset/valid/images/Cars_parked_on_Denmark_Road_-_geograph_org_uk_-_4312421_jpg.rf.bdc12b37a493bd93be769d78c7e6cb1c.jpg: ignoring corrupt image/label: Label class 1 exceeds dataset class count 1. Possible class labels are 0-0\n",
            "\u001b[34m\u001b[1mval: \u001b[0m/content/dataset/valid/images/Cars_parked_on_Gratton_Road_-_geograph_org_uk_-_6574220_jpg.rf.d4fb26bace7b8d190877df4700987f6a.jpg: ignoring corrupt image/label: Label class 1 exceeds dataset class count 1. Possible class labels are 0-0\n",
            "\u001b[34m\u001b[1mval: \u001b[0m/content/dataset/valid/images/Cars_parked_on_Gratton_Road_-_geograph_org_uk_-_65742_jpg.rf.0561bf460214f6f50072ceb4f922ce69.jpg: ignoring corrupt image/label: Label class 1 exceeds dataset class count 1. Possible class labels are 0-0\n",
            "\u001b[34m\u001b[1mval: \u001b[0m/content/dataset/valid/images/Flats_and_cars_on_Pitman_Road_-_geograph_org_uk_-_6288089_jpg.rf.31b5aa4e5969f1335ee3a0472bbf8f76.jpg: ignoring corrupt image/label: Label class 1 exceeds dataset class count 1. Possible class labels are 0-0\n",
            "\u001b[34m\u001b[1mval: \u001b[0m/content/dataset/valid/images/Paris-_Ladestation_-_2014_-_1664_jpg.rf.06a1fb5696d02d1569f260655a927dce.jpg: ignoring corrupt image/label: Label class 1 exceeds dataset class count 1. Possible class labels are 0-0\n",
            "\u001b[34m\u001b[1mval: \u001b[0m/content/dataset/valid/images/Parked_cars_in_Doncaster_Road_-_geograph_org_uk_-_1619367_jpg.rf.a7cb93d59f9d847119a2018039fd51df.jpg: ignoring corrupt image/label: Label class 1 exceeds dataset class count 1. Possible class labels are 0-0\n",
            "\u001b[34m\u001b[1mval: \u001b[0m/content/dataset/valid/images/aff983u-960_jpg.rf.6ddc8ac640087ca7ff621bdb5a0fbc9f.jpg: ignoring corrupt image/label: Label class 1 exceeds dataset class count 1. Possible class labels are 0-0\n",
            "\u001b[34m\u001b[1mval: \u001b[0m/content/dataset/valid/images/c5360750b5783984c48d4f62d3d5aa5e_jpg.rf.d140800c59e7e905595abd75b89dab4e.jpg: ignoring corrupt image/label: Label class 1 exceeds dataset class count 1. Possible class labels are 0-0\n",
            "\u001b[34m\u001b[1mval: \u001b[0m/content/dataset/valid/images/car-plates-Sweden_jpg.rf.e7aa55c4c93344cc1567243af60ca3bf.jpg: ignoring corrupt image/label: Label class 1 exceeds dataset class count 1. Possible class labels are 0-0\n",
            "\u001b[34m\u001b[1mval: \u001b[0m/content/dataset/valid/images/f8417485124468bb4df9e9abf895ed54_jpg.rf.2b6a69c23d90101709956f6610c09107.jpg: ignoring corrupt image/label: Label class 1 exceeds dataset class count 1. Possible class labels are 0-0\n",
            "\u001b[34m\u001b[1mval: \u001b[0m/content/dataset/valid/images/gallery_6237_290_263501_jpg.rf.8194e17343d1a352db606bc8941a4df1.jpg: ignoring corrupt image/label: Label class 1 exceeds dataset class count 1. Possible class labels are 0-0\n",
            "\u001b[34m\u001b[1mval: \u001b[0m/content/dataset/valid/images/gallery_66_4_62659_jpg.rf.6a5940057466929941097812c2dcaa6b.jpg: ignoring corrupt image/label: Label class 1 exceeds dataset class count 1. Possible class labels are 0-0\n",
            "\u001b[34m\u001b[1mval: \u001b[0m/content/dataset/valid/images/images-1-_jpg.rf.909a2239983bff8a51e1aae4c2362e15.jpg: ignoring corrupt image/label: Label class 1 exceeds dataset class count 1. Possible class labels are 0-0\n",
            "\u001b[34m\u001b[1mval: \u001b[0m/content/dataset/valid/images/images-3-_jpg.rf.80874cc57e3e538ec53d64e83ebc7abb.jpg: ignoring corrupt image/label: Label class 1 exceeds dataset class count 1. Possible class labels are 0-0\n",
            "\u001b[34m\u001b[1mval: \u001b[0m/content/dataset/valid/images/images-4-_jpg.rf.320e031d8f7e8a02b0dea4876c75103d.jpg: ignoring corrupt image/label: Label class 1 exceeds dataset class count 1. Possible class labels are 0-0\n",
            "\u001b[34m\u001b[1mval: \u001b[0m/content/dataset/valid/images/images-5-_jpg.rf.fc97fec83b5815738feb30a793de5b9e.jpg: ignoring corrupt image/label: Label class 1 exceeds dataset class count 1. Possible class labels are 0-0\n",
            "\u001b[34m\u001b[1mval: \u001b[0m/content/dataset/valid/images/images-6-_jpg.rf.62b8aceb4a877a9882a266df21ac8895.jpg: ignoring corrupt image/label: Label class 1 exceeds dataset class count 1. Possible class labels are 0-0\n",
            "\u001b[34m\u001b[1mval: \u001b[0m/content/dataset/valid/images/images_jpg.rf.97e70a7e36ca977e8218368bd46005c0.jpg: ignoring corrupt image/label: Label class 1 exceeds dataset class count 1. Possible class labels are 0-0\n",
            "\u001b[34m\u001b[1mval: \u001b[0m/content/dataset/valid/images/maxresdefault-990x556-1_jpg.rf.7b7611eb0523f8df348fc6a18ef3a5dd.jpg: ignoring corrupt image/label: Label class 1 exceeds dataset class count 1. Possible class labels are 0-0\n",
            "\u001b[34m\u001b[1mval: \u001b[0m/content/dataset/valid/images/odessa-ukraine-november-9-2021-cars-with-license-plates-of-the-unrecognized-republic-of-transnistria-in-the-city-of-kuchurgan-in-the-border-terri-2H84KMK_jpg.rf.558ec1771043986780b06f92a20d3b5f.jpg: ignoring corrupt image/label: Label class 1 exceeds dataset class count 1. Possible class labels are 0-0\n",
            "\u001b[34m\u001b[1mval: \u001b[0m/content/dataset/valid/images/ym089pdscev21_jpg.rf.582b93f3479f3c3387ede9e75444d8c2.jpg: ignoring corrupt image/label: Label class 1 exceeds dataset class count 1. Possible class labels are 0-0\n",
            "\u001b[34m\u001b[1mval: \u001b[0mNew cache created: /content/dataset/valid/labels.cache\n"
          ]
        },
        {
          "name": "stderr",
          "output_type": "stream",
          "text": [
            "\n"
          ]
        },
        {
          "name": "stdout",
          "output_type": "stream",
          "text": [
            "Plotting labels to runs/detect/license-plate2/labels.jpg... \n",
            "\u001b[34m\u001b[1moptimizer:\u001b[0m SGD(lr=0.01, momentum=0.937) with parameter groups 57 weight(decay=0.0), 64 weight(decay=0.0005), 63 bias(decay=0.0)\n",
            "Image sizes 416 train, 416 val\n",
            "Using 2 dataloader workers\n",
            "Logging results to \u001b[1mruns/detect/license-plate2\u001b[0m\n",
            "Starting training for 50 epochs...\n",
            "\n",
            "      Epoch    GPU_mem   box_loss   cls_loss   dfl_loss  Instances       Size\n"
          ]
        },
        {
          "name": "stderr",
          "output_type": "stream",
          "text": [
            "       1/50     0.912G      1.246      1.228      1.242         14        416: 100%|██████████| 1322/1322 [04:05<00:00,  5.38it/s]\n",
            "                 Class     Images  Instances      Box(P          R      mAP50  mAP50-95): 100%|██████████| 64/64 [00:15<00:00,  4.13it/s]"
          ]
        },
        {
          "name": "stdout",
          "output_type": "stream",
          "text": [
            "                   all       2043       2132      0.953      0.909      0.937      0.591\n",
            "\n",
            "      Epoch    GPU_mem   box_loss   cls_loss   dfl_loss  Instances       Size\n"
          ]
        },
        {
          "name": "stderr",
          "output_type": "stream",
          "text": [
            "\n",
            "       2/50      1.13G      1.226     0.8369       1.16         12        416: 100%|██████████| 1322/1322 [03:58<00:00,  5.55it/s]\n",
            "                 Class     Images  Instances      Box(P          R      mAP50  mAP50-95): 100%|██████████| 64/64 [00:13<00:00,  4.67it/s]"
          ]
        },
        {
          "name": "stdout",
          "output_type": "stream",
          "text": [
            "                   all       2043       2132      0.957      0.917      0.952      0.601\n"
          ]
        },
        {
          "name": "stderr",
          "output_type": "stream",
          "text": [
            "\n"
          ]
        },
        {
          "name": "stdout",
          "output_type": "stream",
          "text": [
            "\n",
            "      Epoch    GPU_mem   box_loss   cls_loss   dfl_loss  Instances       Size\n"
          ]
        },
        {
          "name": "stderr",
          "output_type": "stream",
          "text": [
            "       3/50      1.16G       1.27     0.8379      1.186         17        416: 100%|██████████| 1322/1322 [04:00<00:00,  5.51it/s]\n",
            "                 Class     Images  Instances      Box(P          R      mAP50  mAP50-95): 100%|██████████| 64/64 [00:14<00:00,  4.55it/s]"
          ]
        },
        {
          "name": "stdout",
          "output_type": "stream",
          "text": [
            "                   all       2043       2132      0.949      0.886      0.935      0.558\n"
          ]
        },
        {
          "name": "stderr",
          "output_type": "stream",
          "text": [
            "\n"
          ]
        },
        {
          "name": "stdout",
          "output_type": "stream",
          "text": [
            "\n",
            "      Epoch    GPU_mem   box_loss   cls_loss   dfl_loss  Instances       Size\n"
          ]
        },
        {
          "name": "stderr",
          "output_type": "stream",
          "text": [
            "       4/50      1.16G      1.274     0.8251      1.207         14        416: 100%|██████████| 1322/1322 [03:58<00:00,  5.54it/s]\n",
            "                 Class     Images  Instances      Box(P          R      mAP50  mAP50-95): 100%|██████████| 64/64 [00:13<00:00,  4.74it/s]"
          ]
        },
        {
          "name": "stdout",
          "output_type": "stream",
          "text": [
            "                   all       2043       2132      0.962      0.901      0.952      0.602\n"
          ]
        },
        {
          "name": "stderr",
          "output_type": "stream",
          "text": [
            "\n"
          ]
        },
        {
          "name": "stdout",
          "output_type": "stream",
          "text": [
            "\n",
            "      Epoch    GPU_mem   box_loss   cls_loss   dfl_loss  Instances       Size\n"
          ]
        },
        {
          "name": "stderr",
          "output_type": "stream",
          "text": [
            "       5/50      1.18G      1.238     0.7502       1.19          9        416: 100%|██████████| 1322/1322 [03:56<00:00,  5.59it/s]\n",
            "                 Class     Images  Instances      Box(P          R      mAP50  mAP50-95): 100%|██████████| 64/64 [00:13<00:00,  4.78it/s]"
          ]
        },
        {
          "name": "stdout",
          "output_type": "stream",
          "text": [
            "                   all       2043       2132      0.962      0.922       0.95      0.588\n"
          ]
        },
        {
          "name": "stderr",
          "output_type": "stream",
          "text": [
            "\n"
          ]
        },
        {
          "name": "stdout",
          "output_type": "stream",
          "text": [
            "\n",
            "      Epoch    GPU_mem   box_loss   cls_loss   dfl_loss  Instances       Size\n"
          ]
        },
        {
          "name": "stderr",
          "output_type": "stream",
          "text": [
            "       6/50      1.18G      1.221     0.7228      1.185         12        416: 100%|██████████| 1322/1322 [03:57<00:00,  5.57it/s]\n",
            "                 Class     Images  Instances      Box(P          R      mAP50  mAP50-95): 100%|██████████| 64/64 [00:13<00:00,  4.63it/s]\n"
          ]
        },
        {
          "name": "stdout",
          "output_type": "stream",
          "text": [
            "                   all       2043       2132      0.969      0.926       0.96      0.615\n",
            "\n",
            "      Epoch    GPU_mem   box_loss   cls_loss   dfl_loss  Instances       Size\n"
          ]
        },
        {
          "name": "stderr",
          "output_type": "stream",
          "text": [
            "       7/50       1.2G      1.198     0.6944      1.176         10        416: 100%|██████████| 1322/1322 [04:00<00:00,  5.49it/s]\n",
            "                 Class     Images  Instances      Box(P          R      mAP50  mAP50-95): 100%|██████████| 64/64 [00:13<00:00,  4.62it/s]"
          ]
        },
        {
          "name": "stdout",
          "output_type": "stream",
          "text": [
            "                   all       2043       2132      0.968      0.931      0.961       0.64\n"
          ]
        },
        {
          "name": "stderr",
          "output_type": "stream",
          "text": [
            "\n"
          ]
        },
        {
          "name": "stdout",
          "output_type": "stream",
          "text": [
            "\n",
            "      Epoch    GPU_mem   box_loss   cls_loss   dfl_loss  Instances       Size\n"
          ]
        },
        {
          "name": "stderr",
          "output_type": "stream",
          "text": [
            "       8/50       1.2G      1.173     0.6571      1.167         11        416: 100%|██████████| 1322/1322 [03:58<00:00,  5.55it/s]\n",
            "                 Class     Images  Instances      Box(P          R      mAP50  mAP50-95): 100%|██████████| 64/64 [00:13<00:00,  4.81it/s]"
          ]
        },
        {
          "name": "stdout",
          "output_type": "stream",
          "text": [
            "                   all       2043       2132      0.977      0.929      0.965      0.652\n"
          ]
        },
        {
          "name": "stderr",
          "output_type": "stream",
          "text": [
            "\n"
          ]
        },
        {
          "name": "stdout",
          "output_type": "stream",
          "text": [
            "\n",
            "      Epoch    GPU_mem   box_loss   cls_loss   dfl_loss  Instances       Size\n"
          ]
        },
        {
          "name": "stderr",
          "output_type": "stream",
          "text": [
            "       9/50      1.22G      1.171     0.6443      1.166         14        416: 100%|██████████| 1322/1322 [03:55<00:00,  5.61it/s]\n",
            "                 Class     Images  Instances      Box(P          R      mAP50  mAP50-95): 100%|██████████| 64/64 [00:13<00:00,  4.78it/s]\n"
          ]
        },
        {
          "name": "stdout",
          "output_type": "stream",
          "text": [
            "                   all       2043       2132      0.972      0.932      0.966      0.646\n",
            "\n",
            "      Epoch    GPU_mem   box_loss   cls_loss   dfl_loss  Instances       Size\n"
          ]
        },
        {
          "name": "stderr",
          "output_type": "stream",
          "text": [
            "      10/50      1.22G      1.162     0.6358      1.164          9        416: 100%|██████████| 1322/1322 [03:57<00:00,  5.58it/s]\n",
            "                 Class     Images  Instances      Box(P          R      mAP50  mAP50-95): 100%|██████████| 64/64 [00:13<00:00,  4.84it/s]"
          ]
        },
        {
          "name": "stdout",
          "output_type": "stream",
          "text": [
            "                   all       2043       2132      0.975      0.933      0.967      0.643\n"
          ]
        },
        {
          "name": "stderr",
          "output_type": "stream",
          "text": [
            "\n"
          ]
        },
        {
          "name": "stdout",
          "output_type": "stream",
          "text": [
            "\n",
            "      Epoch    GPU_mem   box_loss   cls_loss   dfl_loss  Instances       Size\n"
          ]
        },
        {
          "name": "stderr",
          "output_type": "stream",
          "text": [
            "      11/50      1.25G       1.15     0.6211      1.158         16        416: 100%|██████████| 1322/1322 [03:56<00:00,  5.60it/s]\n",
            "                 Class     Images  Instances      Box(P          R      mAP50  mAP50-95): 100%|██████████| 64/64 [00:13<00:00,  4.82it/s]"
          ]
        },
        {
          "name": "stdout",
          "output_type": "stream",
          "text": [
            "                   all       2043       2132      0.965      0.945      0.967      0.644\n"
          ]
        },
        {
          "name": "stderr",
          "output_type": "stream",
          "text": [
            "\n"
          ]
        },
        {
          "name": "stdout",
          "output_type": "stream",
          "text": [
            "\n",
            "      Epoch    GPU_mem   box_loss   cls_loss   dfl_loss  Instances       Size\n"
          ]
        },
        {
          "name": "stderr",
          "output_type": "stream",
          "text": [
            "      12/50      1.25G      1.135     0.6095      1.144         12        416: 100%|██████████| 1322/1322 [03:56<00:00,  5.59it/s]\n",
            "                 Class     Images  Instances      Box(P          R      mAP50  mAP50-95): 100%|██████████| 64/64 [00:13<00:00,  4.69it/s]\n"
          ]
        },
        {
          "name": "stdout",
          "output_type": "stream",
          "text": [
            "                   all       2043       2132       0.97      0.943      0.969      0.655\n",
            "\n",
            "      Epoch    GPU_mem   box_loss   cls_loss   dfl_loss  Instances       Size\n"
          ]
        },
        {
          "name": "stderr",
          "output_type": "stream",
          "text": [
            "      13/50      1.27G      1.126     0.5937      1.143         14        416: 100%|██████████| 1322/1322 [03:57<00:00,  5.58it/s]\n",
            "                 Class     Images  Instances      Box(P          R      mAP50  mAP50-95): 100%|██████████| 64/64 [00:13<00:00,  4.66it/s]"
          ]
        },
        {
          "name": "stdout",
          "output_type": "stream",
          "text": [
            "                   all       2043       2132      0.974      0.943      0.969      0.665\n"
          ]
        },
        {
          "name": "stderr",
          "output_type": "stream",
          "text": [
            "\n"
          ]
        },
        {
          "name": "stdout",
          "output_type": "stream",
          "text": [
            "\n",
            "      Epoch    GPU_mem   box_loss   cls_loss   dfl_loss  Instances       Size\n"
          ]
        },
        {
          "name": "stderr",
          "output_type": "stream",
          "text": [
            "      14/50      1.27G      1.122     0.5876      1.141         13        416: 100%|██████████| 1322/1322 [03:56<00:00,  5.59it/s]\n",
            "                 Class     Images  Instances      Box(P          R      mAP50  mAP50-95): 100%|██████████| 64/64 [00:13<00:00,  4.78it/s]\n"
          ]
        },
        {
          "name": "stdout",
          "output_type": "stream",
          "text": [
            "                   all       2043       2132      0.976      0.942       0.97      0.665\n",
            "\n",
            "      Epoch    GPU_mem   box_loss   cls_loss   dfl_loss  Instances       Size\n"
          ]
        },
        {
          "name": "stderr",
          "output_type": "stream",
          "text": [
            "      15/50      1.29G      1.115     0.5744      1.139         16        416: 100%|██████████| 1322/1322 [03:55<00:00,  5.61it/s]\n",
            "                 Class     Images  Instances      Box(P          R      mAP50  mAP50-95): 100%|██████████| 64/64 [00:13<00:00,  4.79it/s]"
          ]
        },
        {
          "name": "stdout",
          "output_type": "stream",
          "text": [
            "                   all       2043       2132      0.975      0.952      0.972      0.672\n"
          ]
        },
        {
          "name": "stderr",
          "output_type": "stream",
          "text": [
            "\n"
          ]
        },
        {
          "name": "stdout",
          "output_type": "stream",
          "text": [
            "\n",
            "      Epoch    GPU_mem   box_loss   cls_loss   dfl_loss  Instances       Size\n"
          ]
        },
        {
          "name": "stderr",
          "output_type": "stream",
          "text": [
            "      16/50      1.29G      1.111      0.568      1.135         15        416: 100%|██████████| 1322/1322 [03:56<00:00,  5.60it/s]\n",
            "                 Class     Images  Instances      Box(P          R      mAP50  mAP50-95): 100%|██████████| 64/64 [00:13<00:00,  4.90it/s]\n"
          ]
        },
        {
          "name": "stdout",
          "output_type": "stream",
          "text": [
            "                   all       2043       2132      0.974      0.945      0.974      0.676\n",
            "\n",
            "      Epoch    GPU_mem   box_loss   cls_loss   dfl_loss  Instances       Size\n"
          ]
        },
        {
          "name": "stderr",
          "output_type": "stream",
          "text": [
            "      17/50      1.31G      1.102     0.5613      1.129         12        416: 100%|██████████| 1322/1322 [03:54<00:00,  5.63it/s]\n",
            "                 Class     Images  Instances      Box(P          R      mAP50  mAP50-95): 100%|██████████| 64/64 [00:13<00:00,  4.79it/s]\n"
          ]
        },
        {
          "name": "stdout",
          "output_type": "stream",
          "text": [
            "                   all       2043       2132      0.979      0.939      0.973      0.672\n",
            "\n",
            "      Epoch    GPU_mem   box_loss   cls_loss   dfl_loss  Instances       Size\n"
          ]
        },
        {
          "name": "stderr",
          "output_type": "stream",
          "text": [
            "      18/50      1.32G      1.091     0.5525      1.127         14        416: 100%|██████████| 1322/1322 [04:05<00:00,  5.38it/s]\n",
            "                 Class     Images  Instances      Box(P          R      mAP50  mAP50-95): 100%|██████████| 64/64 [00:23<00:00,  2.75it/s]"
          ]
        },
        {
          "name": "stdout",
          "output_type": "stream",
          "text": [
            "                   all       2043       2132      0.971      0.949      0.974      0.671\n"
          ]
        },
        {
          "name": "stderr",
          "output_type": "stream",
          "text": [
            "\n"
          ]
        },
        {
          "name": "stdout",
          "output_type": "stream",
          "text": [
            "\n",
            "      Epoch    GPU_mem   box_loss   cls_loss   dfl_loss  Instances       Size\n"
          ]
        },
        {
          "name": "stderr",
          "output_type": "stream",
          "text": [
            "      19/50      1.34G      1.089      0.543      1.125          9        416: 100%|██████████| 1322/1322 [04:16<00:00,  5.16it/s]\n",
            "                 Class     Images  Instances      Box(P          R      mAP50  mAP50-95): 100%|██████████| 64/64 [00:13<00:00,  4.72it/s]\n"
          ]
        },
        {
          "name": "stdout",
          "output_type": "stream",
          "text": [
            "                   all       2043       2132      0.978      0.951      0.977      0.684\n",
            "\n",
            "      Epoch    GPU_mem   box_loss   cls_loss   dfl_loss  Instances       Size\n"
          ]
        },
        {
          "name": "stderr",
          "output_type": "stream",
          "text": [
            "      20/50      1.34G      1.086       0.54      1.123         12        416: 100%|██████████| 1322/1322 [03:56<00:00,  5.58it/s]\n",
            "                 Class     Images  Instances      Box(P          R      mAP50  mAP50-95): 100%|██████████| 64/64 [00:13<00:00,  4.71it/s]"
          ]
        },
        {
          "name": "stdout",
          "output_type": "stream",
          "text": [
            "                   all       2043       2132      0.975      0.947      0.973      0.685\n"
          ]
        },
        {
          "name": "stderr",
          "output_type": "stream",
          "text": [
            "\n"
          ]
        },
        {
          "name": "stdout",
          "output_type": "stream",
          "text": [
            "\n",
            "      Epoch    GPU_mem   box_loss   cls_loss   dfl_loss  Instances       Size\n"
          ]
        },
        {
          "name": "stderr",
          "output_type": "stream",
          "text": [
            "      21/50      1.36G      1.081     0.5339       1.12         13        416: 100%|██████████| 1322/1322 [03:57<00:00,  5.56it/s]\n",
            "                 Class     Images  Instances      Box(P          R      mAP50  mAP50-95): 100%|██████████| 64/64 [00:13<00:00,  4.85it/s]\n"
          ]
        },
        {
          "name": "stdout",
          "output_type": "stream",
          "text": [
            "                   all       2043       2132      0.978      0.951      0.977      0.685\n",
            "\n",
            "      Epoch    GPU_mem   box_loss   cls_loss   dfl_loss  Instances       Size\n"
          ]
        },
        {
          "name": "stderr",
          "output_type": "stream",
          "text": [
            "      22/50      1.36G       1.07     0.5285      1.115         11        416: 100%|██████████| 1322/1322 [03:56<00:00,  5.58it/s]\n",
            "                 Class     Images  Instances      Box(P          R      mAP50  mAP50-95): 100%|██████████| 64/64 [00:13<00:00,  4.78it/s]\n"
          ]
        },
        {
          "name": "stdout",
          "output_type": "stream",
          "text": [
            "                   all       2043       2132      0.981      0.947      0.978      0.687\n",
            "\n",
            "      Epoch    GPU_mem   box_loss   cls_loss   dfl_loss  Instances       Size\n"
          ]
        },
        {
          "name": "stderr",
          "output_type": "stream",
          "text": [
            "      23/50      1.38G      1.066     0.5207      1.109         14        416: 100%|██████████| 1322/1322 [03:56<00:00,  5.59it/s]\n",
            "                 Class     Images  Instances      Box(P          R      mAP50  mAP50-95): 100%|██████████| 64/64 [00:13<00:00,  4.69it/s]\n"
          ]
        },
        {
          "name": "stdout",
          "output_type": "stream",
          "text": [
            "                   all       2043       2132      0.979      0.949      0.978      0.687\n",
            "\n",
            "      Epoch    GPU_mem   box_loss   cls_loss   dfl_loss  Instances       Size\n"
          ]
        },
        {
          "name": "stderr",
          "output_type": "stream",
          "text": [
            "      24/50      1.38G      1.061     0.5143      1.111         10        416: 100%|██████████| 1322/1322 [04:08<00:00,  5.33it/s]\n",
            "                 Class     Images  Instances      Box(P          R      mAP50  mAP50-95): 100%|██████████| 64/64 [00:13<00:00,  4.71it/s]\n"
          ]
        },
        {
          "name": "stdout",
          "output_type": "stream",
          "text": [
            "                   all       2043       2132      0.976      0.956       0.98      0.692\n",
            "\n",
            "      Epoch    GPU_mem   box_loss   cls_loss   dfl_loss  Instances       Size\n"
          ]
        },
        {
          "name": "stderr",
          "output_type": "stream",
          "text": [
            "      25/50      1.41G      1.055     0.5079      1.106         16        416: 100%|██████████| 1322/1322 [04:03<00:00,  5.44it/s]\n",
            "                 Class     Images  Instances      Box(P          R      mAP50  mAP50-95): 100%|██████████| 64/64 [00:13<00:00,  4.72it/s]"
          ]
        },
        {
          "name": "stdout",
          "output_type": "stream",
          "text": [
            "                   all       2043       2132      0.973      0.963       0.98      0.693\n"
          ]
        },
        {
          "name": "stderr",
          "output_type": "stream",
          "text": [
            "\n"
          ]
        },
        {
          "name": "stdout",
          "output_type": "stream",
          "text": [
            "\n",
            "      Epoch    GPU_mem   box_loss   cls_loss   dfl_loss  Instances       Size\n"
          ]
        },
        {
          "name": "stderr",
          "output_type": "stream",
          "text": [
            "      26/50      1.41G       1.05     0.5032      1.106         12        416: 100%|██████████| 1322/1322 [04:03<00:00,  5.43it/s]\n",
            "                 Class     Images  Instances      Box(P          R      mAP50  mAP50-95): 100%|██████████| 64/64 [00:13<00:00,  4.79it/s]\n"
          ]
        },
        {
          "name": "stdout",
          "output_type": "stream",
          "text": [
            "                   all       2043       2132      0.976      0.955      0.979      0.691\n",
            "\n",
            "      Epoch    GPU_mem   box_loss   cls_loss   dfl_loss  Instances       Size\n"
          ]
        },
        {
          "name": "stderr",
          "output_type": "stream",
          "text": [
            "      27/50      1.43G      1.048     0.4999      1.104         15        416: 100%|██████████| 1322/1322 [03:58<00:00,  5.54it/s]\n",
            "                 Class     Images  Instances      Box(P          R      mAP50  mAP50-95): 100%|██████████| 64/64 [00:13<00:00,  4.75it/s]"
          ]
        },
        {
          "name": "stdout",
          "output_type": "stream",
          "text": [
            "                   all       2043       2132      0.982       0.95      0.979      0.693\n"
          ]
        },
        {
          "name": "stderr",
          "output_type": "stream",
          "text": [
            "\n"
          ]
        },
        {
          "name": "stdout",
          "output_type": "stream",
          "text": [
            "\n",
            "      Epoch    GPU_mem   box_loss   cls_loss   dfl_loss  Instances       Size\n"
          ]
        },
        {
          "name": "stderr",
          "output_type": "stream",
          "text": [
            "      28/50      1.43G      1.045     0.4944      1.104         17        416: 100%|██████████| 1322/1322 [03:59<00:00,  5.52it/s]\n",
            "                 Class     Images  Instances      Box(P          R      mAP50  mAP50-95): 100%|██████████| 64/64 [00:13<00:00,  4.75it/s]\n"
          ]
        },
        {
          "name": "stdout",
          "output_type": "stream",
          "text": [
            "                   all       2043       2132      0.978      0.952      0.978      0.692\n",
            "\n",
            "      Epoch    GPU_mem   box_loss   cls_loss   dfl_loss  Instances       Size\n"
          ]
        },
        {
          "name": "stderr",
          "output_type": "stream",
          "text": [
            "      29/50      1.45G      1.044     0.4923      1.101          8        416: 100%|██████████| 1322/1322 [04:00<00:00,  5.49it/s]\n",
            "                 Class     Images  Instances      Box(P          R      mAP50  mAP50-95): 100%|██████████| 64/64 [00:13<00:00,  4.82it/s]"
          ]
        },
        {
          "name": "stdout",
          "output_type": "stream",
          "text": [
            "                   all       2043       2132      0.978      0.953      0.979      0.691\n"
          ]
        },
        {
          "name": "stderr",
          "output_type": "stream",
          "text": [
            "\n"
          ]
        },
        {
          "name": "stdout",
          "output_type": "stream",
          "text": [
            "\n",
            "      Epoch    GPU_mem   box_loss   cls_loss   dfl_loss  Instances       Size\n"
          ]
        },
        {
          "name": "stderr",
          "output_type": "stream",
          "text": [
            "      30/50      1.46G      1.031     0.4854      1.094         16        416: 100%|██████████| 1322/1322 [03:59<00:00,  5.52it/s]\n",
            "                 Class     Images  Instances      Box(P          R      mAP50  mAP50-95): 100%|██████████| 64/64 [00:13<00:00,  4.75it/s]"
          ]
        },
        {
          "name": "stdout",
          "output_type": "stream",
          "text": [
            "                   all       2043       2132      0.977      0.957      0.978      0.694\n"
          ]
        },
        {
          "name": "stderr",
          "output_type": "stream",
          "text": [
            "\n"
          ]
        },
        {
          "name": "stdout",
          "output_type": "stream",
          "text": [
            "\n",
            "      Epoch    GPU_mem   box_loss   cls_loss   dfl_loss  Instances       Size\n"
          ]
        },
        {
          "name": "stderr",
          "output_type": "stream",
          "text": [
            "      31/50      1.48G      1.025     0.4812      1.096         16        416: 100%|██████████| 1322/1322 [04:00<00:00,  5.50it/s]\n",
            "                 Class     Images  Instances      Box(P          R      mAP50  mAP50-95): 100%|██████████| 64/64 [00:13<00:00,  4.75it/s]\n"
          ]
        },
        {
          "name": "stdout",
          "output_type": "stream",
          "text": [
            "                   all       2043       2132      0.977      0.959       0.98      0.701\n",
            "\n",
            "      Epoch    GPU_mem   box_loss   cls_loss   dfl_loss  Instances       Size\n"
          ]
        },
        {
          "name": "stderr",
          "output_type": "stream",
          "text": [
            "      32/50      1.48G      1.017     0.4709      1.094         12        416: 100%|██████████| 1322/1322 [04:00<00:00,  5.50it/s]\n",
            "                 Class     Images  Instances      Box(P          R      mAP50  mAP50-95): 100%|██████████| 64/64 [00:13<00:00,  4.76it/s]"
          ]
        },
        {
          "name": "stdout",
          "output_type": "stream",
          "text": [
            "                   all       2043       2132      0.978      0.958       0.98      0.695\n",
            "\n",
            "      Epoch    GPU_mem   box_loss   cls_loss   dfl_loss  Instances       Size\n"
          ]
        },
        {
          "name": "stderr",
          "output_type": "stream",
          "text": [
            "\n",
            "      33/50       1.5G      1.016     0.4713      1.087         10        416: 100%|██████████| 1322/1322 [04:00<00:00,  5.49it/s]\n",
            "                 Class     Images  Instances      Box(P          R      mAP50  mAP50-95): 100%|██████████| 64/64 [00:13<00:00,  4.72it/s]"
          ]
        },
        {
          "name": "stdout",
          "output_type": "stream",
          "text": [
            "                   all       2043       2132      0.984      0.957      0.982        0.7\n"
          ]
        },
        {
          "name": "stderr",
          "output_type": "stream",
          "text": [
            "\n"
          ]
        },
        {
          "name": "stdout",
          "output_type": "stream",
          "text": [
            "\n",
            "      Epoch    GPU_mem   box_loss   cls_loss   dfl_loss  Instances       Size\n"
          ]
        },
        {
          "name": "stderr",
          "output_type": "stream",
          "text": [
            "      34/50       1.5G      1.017     0.4672      1.086         19        416: 100%|██████████| 1322/1322 [04:01<00:00,  5.47it/s]\n",
            "                 Class     Images  Instances      Box(P          R      mAP50  mAP50-95): 100%|██████████| 64/64 [00:13<00:00,  4.81it/s]\n"
          ]
        },
        {
          "name": "stdout",
          "output_type": "stream",
          "text": [
            "                   all       2043       2132      0.985      0.955      0.982      0.701\n",
            "\n",
            "      Epoch    GPU_mem   box_loss   cls_loss   dfl_loss  Instances       Size\n"
          ]
        },
        {
          "name": "stderr",
          "output_type": "stream",
          "text": [
            "      35/50      1.52G      1.007     0.4608      1.084         17        416: 100%|██████████| 1322/1322 [04:01<00:00,  5.48it/s]\n",
            "                 Class     Images  Instances      Box(P          R      mAP50  mAP50-95): 100%|██████████| 64/64 [00:13<00:00,  4.72it/s]"
          ]
        },
        {
          "name": "stdout",
          "output_type": "stream",
          "text": [
            "                   all       2043       2132      0.975      0.964      0.983      0.701\n"
          ]
        },
        {
          "name": "stderr",
          "output_type": "stream",
          "text": [
            "\n"
          ]
        },
        {
          "name": "stdout",
          "output_type": "stream",
          "text": [
            "\n",
            "      Epoch    GPU_mem   box_loss   cls_loss   dfl_loss  Instances       Size\n"
          ]
        },
        {
          "name": "stderr",
          "output_type": "stream",
          "text": [
            "      36/50      1.52G     0.9964     0.4542      1.076         14        416: 100%|██████████| 1322/1322 [04:00<00:00,  5.49it/s]\n",
            "                 Class     Images  Instances      Box(P          R      mAP50  mAP50-95): 100%|██████████| 64/64 [00:13<00:00,  4.75it/s]\n"
          ]
        },
        {
          "name": "stdout",
          "output_type": "stream",
          "text": [
            "                   all       2043       2132      0.986      0.955      0.983        0.7\n",
            "\n",
            "      Epoch    GPU_mem   box_loss   cls_loss   dfl_loss  Instances       Size\n"
          ]
        },
        {
          "name": "stderr",
          "output_type": "stream",
          "text": [
            "      37/50      1.54G     0.9983      0.454      1.076         11        416: 100%|██████████| 1322/1322 [03:58<00:00,  5.53it/s]\n",
            "                 Class     Images  Instances      Box(P          R      mAP50  mAP50-95): 100%|██████████| 64/64 [00:13<00:00,  4.75it/s]\n"
          ]
        },
        {
          "name": "stdout",
          "output_type": "stream",
          "text": [
            "                   all       2043       2132      0.985      0.955      0.983        0.7\n",
            "\n",
            "      Epoch    GPU_mem   box_loss   cls_loss   dfl_loss  Instances       Size\n"
          ]
        },
        {
          "name": "stderr",
          "output_type": "stream",
          "text": [
            "      38/50      1.54G      0.986      0.449      1.071          9        416: 100%|██████████| 1322/1322 [04:00<00:00,  5.50it/s]\n",
            "                 Class     Images  Instances      Box(P          R      mAP50  mAP50-95): 100%|██████████| 64/64 [00:13<00:00,  4.66it/s]"
          ]
        },
        {
          "name": "stdout",
          "output_type": "stream",
          "text": [
            "                   all       2043       2132      0.985      0.958      0.982      0.701\n"
          ]
        },
        {
          "name": "stderr",
          "output_type": "stream",
          "text": [
            "\n"
          ]
        },
        {
          "name": "stdout",
          "output_type": "stream",
          "text": [
            "\n",
            "      Epoch    GPU_mem   box_loss   cls_loss   dfl_loss  Instances       Size\n"
          ]
        },
        {
          "name": "stderr",
          "output_type": "stream",
          "text": [
            "      39/50      1.57G     0.9872     0.4444       1.07         17        416: 100%|██████████| 1322/1322 [04:03<00:00,  5.42it/s]\n",
            "                 Class     Images  Instances      Box(P          R      mAP50  mAP50-95): 100%|██████████| 64/64 [00:13<00:00,  4.77it/s]"
          ]
        },
        {
          "name": "stdout",
          "output_type": "stream",
          "text": [
            "                   all       2043       2132      0.985      0.957      0.982      0.702\n"
          ]
        },
        {
          "name": "stderr",
          "output_type": "stream",
          "text": [
            "\n"
          ]
        },
        {
          "name": "stdout",
          "output_type": "stream",
          "text": [
            "\n",
            "      Epoch    GPU_mem   box_loss   cls_loss   dfl_loss  Instances       Size\n"
          ]
        },
        {
          "name": "stderr",
          "output_type": "stream",
          "text": [
            "      40/50      1.57G     0.9815      0.444      1.068         17        416: 100%|██████████| 1322/1322 [04:02<00:00,  5.45it/s]\n",
            "                 Class     Images  Instances      Box(P          R      mAP50  mAP50-95): 100%|██████████| 64/64 [00:13<00:00,  4.64it/s]"
          ]
        },
        {
          "name": "stdout",
          "output_type": "stream",
          "text": [
            "                   all       2043       2132      0.985      0.956      0.982      0.701\n"
          ]
        },
        {
          "name": "stderr",
          "output_type": "stream",
          "text": [
            "\n"
          ]
        },
        {
          "name": "stdout",
          "output_type": "stream",
          "text": [
            "Closing dataloader mosaic\n",
            "\u001b[34m\u001b[1malbumentations: \u001b[0mBlur(p=0.01, blur_limit=(3, 7)), MedianBlur(p=0.01, blur_limit=(3, 7)), ToGray(p=0.01, method='weighted_average', num_output_channels=3), CLAHE(p=0.01, clip_limit=(1.0, 4.0), tile_grid_size=(8, 8))\n",
            "\n",
            "      Epoch    GPU_mem   box_loss   cls_loss   dfl_loss  Instances       Size\n"
          ]
        },
        {
          "name": "stderr",
          "output_type": "stream",
          "text": [
            "      41/50      1.59G     0.9664     0.3774      1.056          6        416: 100%|██████████| 1322/1322 [03:53<00:00,  5.67it/s]\n",
            "                 Class     Images  Instances      Box(P          R      mAP50  mAP50-95): 100%|██████████| 64/64 [00:14<00:00,  4.54it/s]"
          ]
        },
        {
          "name": "stdout",
          "output_type": "stream",
          "text": [
            "                   all       2043       2132      0.984      0.956      0.981      0.701\n"
          ]
        },
        {
          "name": "stderr",
          "output_type": "stream",
          "text": [
            "\n"
          ]
        },
        {
          "name": "stdout",
          "output_type": "stream",
          "text": [
            "\n",
            "      Epoch    GPU_mem   box_loss   cls_loss   dfl_loss  Instances       Size\n"
          ]
        },
        {
          "name": "stderr",
          "output_type": "stream",
          "text": [
            "      42/50      1.59G     0.9495     0.3679      1.048          8        416: 100%|██████████| 1322/1322 [03:52<00:00,  5.70it/s]\n",
            "                 Class     Images  Instances      Box(P          R      mAP50  mAP50-95): 100%|██████████| 64/64 [00:13<00:00,  4.70it/s]"
          ]
        },
        {
          "name": "stdout",
          "output_type": "stream",
          "text": [
            "                   all       2043       2132      0.984      0.957      0.982      0.702\n"
          ]
        },
        {
          "name": "stderr",
          "output_type": "stream",
          "text": [
            "\n"
          ]
        },
        {
          "name": "stdout",
          "output_type": "stream",
          "text": [
            "\n",
            "      Epoch    GPU_mem   box_loss   cls_loss   dfl_loss  Instances       Size\n"
          ]
        },
        {
          "name": "stderr",
          "output_type": "stream",
          "text": [
            "      43/50      1.61G     0.9425     0.3632      1.045          9        416: 100%|██████████| 1322/1322 [03:54<00:00,  5.63it/s]\n",
            "                 Class     Images  Instances      Box(P          R      mAP50  mAP50-95): 100%|██████████| 64/64 [00:13<00:00,  4.76it/s]\n"
          ]
        },
        {
          "name": "stdout",
          "output_type": "stream",
          "text": [
            "                   all       2043       2132      0.985      0.958      0.984      0.702\n",
            "\n",
            "      Epoch    GPU_mem   box_loss   cls_loss   dfl_loss  Instances       Size\n"
          ]
        },
        {
          "name": "stderr",
          "output_type": "stream",
          "text": [
            "      44/50      1.61G     0.9319     0.3556      1.041          8        416: 100%|██████████| 1322/1322 [03:53<00:00,  5.67it/s]\n",
            "                 Class     Images  Instances      Box(P          R      mAP50  mAP50-95): 100%|██████████| 64/64 [00:13<00:00,  4.75it/s]"
          ]
        },
        {
          "name": "stdout",
          "output_type": "stream",
          "text": [
            "                   all       2043       2132      0.983      0.957      0.984      0.703\n"
          ]
        },
        {
          "name": "stderr",
          "output_type": "stream",
          "text": [
            "\n"
          ]
        },
        {
          "name": "stdout",
          "output_type": "stream",
          "text": [
            "\n",
            "      Epoch    GPU_mem   box_loss   cls_loss   dfl_loss  Instances       Size\n"
          ]
        },
        {
          "name": "stderr",
          "output_type": "stream",
          "text": [
            "      45/50      1.63G     0.9265     0.3508      1.038          8        416: 100%|██████████| 1322/1322 [03:51<00:00,  5.70it/s]\n",
            "                 Class     Images  Instances      Box(P          R      mAP50  mAP50-95): 100%|██████████| 64/64 [00:13<00:00,  4.80it/s]\n"
          ]
        },
        {
          "name": "stdout",
          "output_type": "stream",
          "text": [
            "                   all       2043       2132      0.987      0.955      0.983      0.703\n",
            "\n",
            "      Epoch    GPU_mem   box_loss   cls_loss   dfl_loss  Instances       Size\n"
          ]
        },
        {
          "name": "stderr",
          "output_type": "stream",
          "text": [
            "      46/50      1.63G      0.913     0.3459      1.036          9        416: 100%|██████████| 1322/1322 [03:49<00:00,  5.76it/s]\n",
            "                 Class     Images  Instances      Box(P          R      mAP50  mAP50-95): 100%|██████████| 64/64 [00:13<00:00,  4.70it/s]"
          ]
        },
        {
          "name": "stdout",
          "output_type": "stream",
          "text": [
            "                   all       2043       2132      0.988      0.955      0.983      0.704\n"
          ]
        },
        {
          "name": "stderr",
          "output_type": "stream",
          "text": [
            "\n"
          ]
        },
        {
          "name": "stdout",
          "output_type": "stream",
          "text": [
            "\n",
            "      Epoch    GPU_mem   box_loss   cls_loss   dfl_loss  Instances       Size\n"
          ]
        },
        {
          "name": "stderr",
          "output_type": "stream",
          "text": [
            "      47/50      1.66G       0.91     0.3437      1.035          8        416: 100%|██████████| 1322/1322 [03:48<00:00,  5.77it/s]\n",
            "                 Class     Images  Instances      Box(P          R      mAP50  mAP50-95): 100%|██████████| 64/64 [00:13<00:00,  4.74it/s]\n"
          ]
        },
        {
          "name": "stdout",
          "output_type": "stream",
          "text": [
            "                   all       2043       2132      0.989      0.954      0.983      0.704\n",
            "\n",
            "      Epoch    GPU_mem   box_loss   cls_loss   dfl_loss  Instances       Size\n"
          ]
        },
        {
          "name": "stderr",
          "output_type": "stream",
          "text": [
            "      48/50      1.66G     0.9005     0.3373      1.025          8        416: 100%|██████████| 1322/1322 [03:52<00:00,  5.69it/s]\n",
            "                 Class     Images  Instances      Box(P          R      mAP50  mAP50-95): 100%|██████████| 64/64 [00:13<00:00,  4.72it/s]"
          ]
        },
        {
          "name": "stdout",
          "output_type": "stream",
          "text": [
            "                   all       2043       2132      0.991      0.953      0.984      0.704\n"
          ]
        },
        {
          "name": "stderr",
          "output_type": "stream",
          "text": [
            "\n"
          ]
        },
        {
          "name": "stdout",
          "output_type": "stream",
          "text": [
            "\n",
            "      Epoch    GPU_mem   box_loss   cls_loss   dfl_loss  Instances       Size\n"
          ]
        },
        {
          "name": "stderr",
          "output_type": "stream",
          "text": [
            "      49/50      1.68G     0.8957     0.3332      1.022          8        416: 100%|██████████| 1322/1322 [03:47<00:00,  5.81it/s]\n",
            "                 Class     Images  Instances      Box(P          R      mAP50  mAP50-95): 100%|██████████| 64/64 [00:12<00:00,  4.93it/s]"
          ]
        },
        {
          "name": "stdout",
          "output_type": "stream",
          "text": [
            "                   all       2043       2132      0.991      0.953      0.984      0.704\n"
          ]
        },
        {
          "name": "stderr",
          "output_type": "stream",
          "text": [
            "\n"
          ]
        },
        {
          "name": "stdout",
          "output_type": "stream",
          "text": [
            "\n",
            "      Epoch    GPU_mem   box_loss   cls_loss   dfl_loss  Instances       Size\n"
          ]
        },
        {
          "name": "stderr",
          "output_type": "stream",
          "text": [
            "      50/50      1.68G      0.889     0.3308      1.018          8        416: 100%|██████████| 1322/1322 [03:49<00:00,  5.75it/s]\n",
            "                 Class     Images  Instances      Box(P          R      mAP50  mAP50-95): 100%|██████████| 64/64 [00:13<00:00,  4.65it/s]"
          ]
        },
        {
          "name": "stdout",
          "output_type": "stream",
          "text": [
            "                   all       2043       2132       0.99      0.955      0.984      0.704\n"
          ]
        },
        {
          "name": "stderr",
          "output_type": "stream",
          "text": [
            "\n"
          ]
        },
        {
          "name": "stdout",
          "output_type": "stream",
          "text": [
            "\n",
            "50 epochs completed in 3.503 hours.\n",
            "Optimizer stripped from runs/detect/license-plate2/weights/last.pt, 6.2MB\n",
            "Optimizer stripped from runs/detect/license-plate2/weights/best.pt, 6.2MB\n",
            "\n",
            "Validating runs/detect/license-plate2/weights/best.pt...\n",
            "Ultralytics 8.3.140 🚀 Python-3.11.12 torch-2.6.0+cu124 CUDA:0 (Tesla T4, 15095MiB)\n",
            "Model summary (fused): 72 layers, 3,005,843 parameters, 0 gradients, 8.1 GFLOPs\n"
          ]
        },
        {
          "name": "stderr",
          "output_type": "stream",
          "text": [
            "                 Class     Images  Instances      Box(P          R      mAP50  mAP50-95): 100%|██████████| 64/64 [00:17<00:00,  3.71it/s]\n"
          ]
        },
        {
          "name": "stdout",
          "output_type": "stream",
          "text": [
            "                   all       2043       2132      0.986      0.957      0.982      0.693\n",
            "Speed: 0.1ms preprocess, 2.9ms inference, 0.0ms loss, 1.5ms postprocess per image\n",
            "Results saved to \u001b[1mruns/detect/license-plate2\u001b[0m\n"
          ]
        },
        {
          "data": {
            "text/plain": [
              "ultralytics.utils.metrics.DetMetrics object with attributes:\n",
              "\n",
              "ap_class_index: array([0])\n",
              "box: ultralytics.utils.metrics.Metric object\n",
              "confusion_matrix: <ultralytics.utils.metrics.ConfusionMatrix object at 0x798d44fc3810>\n",
              "curves: ['Precision-Recall(B)', 'F1-Confidence(B)', 'Precision-Confidence(B)', 'Recall-Confidence(B)']\n",
              "curves_results: [[array([          0,    0.001001,    0.002002,    0.003003,    0.004004,    0.005005,    0.006006,    0.007007,    0.008008,    0.009009,     0.01001,    0.011011,    0.012012,    0.013013,    0.014014,    0.015015,    0.016016,    0.017017,    0.018018,    0.019019,     0.02002,    0.021021,    0.022022,    0.023023,\n",
              "          0.024024,    0.025025,    0.026026,    0.027027,    0.028028,    0.029029,     0.03003,    0.031031,    0.032032,    0.033033,    0.034034,    0.035035,    0.036036,    0.037037,    0.038038,    0.039039,     0.04004,    0.041041,    0.042042,    0.043043,    0.044044,    0.045045,    0.046046,    0.047047,\n",
              "          0.048048,    0.049049,     0.05005,    0.051051,    0.052052,    0.053053,    0.054054,    0.055055,    0.056056,    0.057057,    0.058058,    0.059059,     0.06006,    0.061061,    0.062062,    0.063063,    0.064064,    0.065065,    0.066066,    0.067067,    0.068068,    0.069069,     0.07007,    0.071071,\n",
              "          0.072072,    0.073073,    0.074074,    0.075075,    0.076076,    0.077077,    0.078078,    0.079079,     0.08008,    0.081081,    0.082082,    0.083083,    0.084084,    0.085085,    0.086086,    0.087087,    0.088088,    0.089089,     0.09009,    0.091091,    0.092092,    0.093093,    0.094094,    0.095095,\n",
              "          0.096096,    0.097097,    0.098098,    0.099099,      0.1001,      0.1011,      0.1021,      0.1031,      0.1041,     0.10511,     0.10611,     0.10711,     0.10811,     0.10911,     0.11011,     0.11111,     0.11211,     0.11311,     0.11411,     0.11512,     0.11612,     0.11712,     0.11812,     0.11912,\n",
              "           0.12012,     0.12112,     0.12212,     0.12312,     0.12412,     0.12513,     0.12613,     0.12713,     0.12813,     0.12913,     0.13013,     0.13113,     0.13213,     0.13313,     0.13413,     0.13514,     0.13614,     0.13714,     0.13814,     0.13914,     0.14014,     0.14114,     0.14214,     0.14314,\n",
              "           0.14414,     0.14515,     0.14615,     0.14715,     0.14815,     0.14915,     0.15015,     0.15115,     0.15215,     0.15315,     0.15415,     0.15516,     0.15616,     0.15716,     0.15816,     0.15916,     0.16016,     0.16116,     0.16216,     0.16316,     0.16416,     0.16517,     0.16617,     0.16717,\n",
              "           0.16817,     0.16917,     0.17017,     0.17117,     0.17217,     0.17317,     0.17417,     0.17518,     0.17618,     0.17718,     0.17818,     0.17918,     0.18018,     0.18118,     0.18218,     0.18318,     0.18418,     0.18519,     0.18619,     0.18719,     0.18819,     0.18919,     0.19019,     0.19119,\n",
              "           0.19219,     0.19319,     0.19419,      0.1952,      0.1962,      0.1972,      0.1982,      0.1992,      0.2002,      0.2012,      0.2022,      0.2032,      0.2042,     0.20521,     0.20621,     0.20721,     0.20821,     0.20921,     0.21021,     0.21121,     0.21221,     0.21321,     0.21421,     0.21522,\n",
              "           0.21622,     0.21722,     0.21822,     0.21922,     0.22022,     0.22122,     0.22222,     0.22322,     0.22422,     0.22523,     0.22623,     0.22723,     0.22823,     0.22923,     0.23023,     0.23123,     0.23223,     0.23323,     0.23423,     0.23524,     0.23624,     0.23724,     0.23824,     0.23924,\n",
              "           0.24024,     0.24124,     0.24224,     0.24324,     0.24424,     0.24525,     0.24625,     0.24725,     0.24825,     0.24925,     0.25025,     0.25125,     0.25225,     0.25325,     0.25425,     0.25526,     0.25626,     0.25726,     0.25826,     0.25926,     0.26026,     0.26126,     0.26226,     0.26326,\n",
              "           0.26426,     0.26527,     0.26627,     0.26727,     0.26827,     0.26927,     0.27027,     0.27127,     0.27227,     0.27327,     0.27427,     0.27528,     0.27628,     0.27728,     0.27828,     0.27928,     0.28028,     0.28128,     0.28228,     0.28328,     0.28428,     0.28529,     0.28629,     0.28729,\n",
              "           0.28829,     0.28929,     0.29029,     0.29129,     0.29229,     0.29329,     0.29429,      0.2953,      0.2963,      0.2973,      0.2983,      0.2993,      0.3003,      0.3013,      0.3023,      0.3033,      0.3043,     0.30531,     0.30631,     0.30731,     0.30831,     0.30931,     0.31031,     0.31131,\n",
              "           0.31231,     0.31331,     0.31431,     0.31532,     0.31632,     0.31732,     0.31832,     0.31932,     0.32032,     0.32132,     0.32232,     0.32332,     0.32432,     0.32533,     0.32633,     0.32733,     0.32833,     0.32933,     0.33033,     0.33133,     0.33233,     0.33333,     0.33433,     0.33534,\n",
              "           0.33634,     0.33734,     0.33834,     0.33934,     0.34034,     0.34134,     0.34234,     0.34334,     0.34434,     0.34535,     0.34635,     0.34735,     0.34835,     0.34935,     0.35035,     0.35135,     0.35235,     0.35335,     0.35435,     0.35536,     0.35636,     0.35736,     0.35836,     0.35936,\n",
              "           0.36036,     0.36136,     0.36236,     0.36336,     0.36436,     0.36537,     0.36637,     0.36737,     0.36837,     0.36937,     0.37037,     0.37137,     0.37237,     0.37337,     0.37437,     0.37538,     0.37638,     0.37738,     0.37838,     0.37938,     0.38038,     0.38138,     0.38238,     0.38338,\n",
              "           0.38438,     0.38539,     0.38639,     0.38739,     0.38839,     0.38939,     0.39039,     0.39139,     0.39239,     0.39339,     0.39439,      0.3954,      0.3964,      0.3974,      0.3984,      0.3994,      0.4004,      0.4014,      0.4024,      0.4034,      0.4044,     0.40541,     0.40641,     0.40741,\n",
              "           0.40841,     0.40941,     0.41041,     0.41141,     0.41241,     0.41341,     0.41441,     0.41542,     0.41642,     0.41742,     0.41842,     0.41942,     0.42042,     0.42142,     0.42242,     0.42342,     0.42442,     0.42543,     0.42643,     0.42743,     0.42843,     0.42943,     0.43043,     0.43143,\n",
              "           0.43243,     0.43343,     0.43443,     0.43544,     0.43644,     0.43744,     0.43844,     0.43944,     0.44044,     0.44144,     0.44244,     0.44344,     0.44444,     0.44545,     0.44645,     0.44745,     0.44845,     0.44945,     0.45045,     0.45145,     0.45245,     0.45345,     0.45445,     0.45546,\n",
              "           0.45646,     0.45746,     0.45846,     0.45946,     0.46046,     0.46146,     0.46246,     0.46346,     0.46446,     0.46547,     0.46647,     0.46747,     0.46847,     0.46947,     0.47047,     0.47147,     0.47247,     0.47347,     0.47447,     0.47548,     0.47648,     0.47748,     0.47848,     0.47948,\n",
              "           0.48048,     0.48148,     0.48248,     0.48348,     0.48448,     0.48549,     0.48649,     0.48749,     0.48849,     0.48949,     0.49049,     0.49149,     0.49249,     0.49349,     0.49449,      0.4955,      0.4965,      0.4975,      0.4985,      0.4995,      0.5005,      0.5015,      0.5025,      0.5035,\n",
              "            0.5045,     0.50551,     0.50651,     0.50751,     0.50851,     0.50951,     0.51051,     0.51151,     0.51251,     0.51351,     0.51451,     0.51552,     0.51652,     0.51752,     0.51852,     0.51952,     0.52052,     0.52152,     0.52252,     0.52352,     0.52452,     0.52553,     0.52653,     0.52753,\n",
              "           0.52853,     0.52953,     0.53053,     0.53153,     0.53253,     0.53353,     0.53453,     0.53554,     0.53654,     0.53754,     0.53854,     0.53954,     0.54054,     0.54154,     0.54254,     0.54354,     0.54454,     0.54555,     0.54655,     0.54755,     0.54855,     0.54955,     0.55055,     0.55155,\n",
              "           0.55255,     0.55355,     0.55455,     0.55556,     0.55656,     0.55756,     0.55856,     0.55956,     0.56056,     0.56156,     0.56256,     0.56356,     0.56456,     0.56557,     0.56657,     0.56757,     0.56857,     0.56957,     0.57057,     0.57157,     0.57257,     0.57357,     0.57457,     0.57558,\n",
              "           0.57658,     0.57758,     0.57858,     0.57958,     0.58058,     0.58158,     0.58258,     0.58358,     0.58458,     0.58559,     0.58659,     0.58759,     0.58859,     0.58959,     0.59059,     0.59159,     0.59259,     0.59359,     0.59459,      0.5956,      0.5966,      0.5976,      0.5986,      0.5996,\n",
              "            0.6006,      0.6016,      0.6026,      0.6036,      0.6046,     0.60561,     0.60661,     0.60761,     0.60861,     0.60961,     0.61061,     0.61161,     0.61261,     0.61361,     0.61461,     0.61562,     0.61662,     0.61762,     0.61862,     0.61962,     0.62062,     0.62162,     0.62262,     0.62362,\n",
              "           0.62462,     0.62563,     0.62663,     0.62763,     0.62863,     0.62963,     0.63063,     0.63163,     0.63263,     0.63363,     0.63463,     0.63564,     0.63664,     0.63764,     0.63864,     0.63964,     0.64064,     0.64164,     0.64264,     0.64364,     0.64464,     0.64565,     0.64665,     0.64765,\n",
              "           0.64865,     0.64965,     0.65065,     0.65165,     0.65265,     0.65365,     0.65465,     0.65566,     0.65666,     0.65766,     0.65866,     0.65966,     0.66066,     0.66166,     0.66266,     0.66366,     0.66466,     0.66567,     0.66667,     0.66767,     0.66867,     0.66967,     0.67067,     0.67167,\n",
              "           0.67267,     0.67367,     0.67467,     0.67568,     0.67668,     0.67768,     0.67868,     0.67968,     0.68068,     0.68168,     0.68268,     0.68368,     0.68468,     0.68569,     0.68669,     0.68769,     0.68869,     0.68969,     0.69069,     0.69169,     0.69269,     0.69369,     0.69469,      0.6957,\n",
              "            0.6967,      0.6977,      0.6987,      0.6997,      0.7007,      0.7017,      0.7027,      0.7037,      0.7047,     0.70571,     0.70671,     0.70771,     0.70871,     0.70971,     0.71071,     0.71171,     0.71271,     0.71371,     0.71471,     0.71572,     0.71672,     0.71772,     0.71872,     0.71972,\n",
              "           0.72072,     0.72172,     0.72272,     0.72372,     0.72472,     0.72573,     0.72673,     0.72773,     0.72873,     0.72973,     0.73073,     0.73173,     0.73273,     0.73373,     0.73473,     0.73574,     0.73674,     0.73774,     0.73874,     0.73974,     0.74074,     0.74174,     0.74274,     0.74374,\n",
              "           0.74474,     0.74575,     0.74675,     0.74775,     0.74875,     0.74975,     0.75075,     0.75175,     0.75275,     0.75375,     0.75475,     0.75576,     0.75676,     0.75776,     0.75876,     0.75976,     0.76076,     0.76176,     0.76276,     0.76376,     0.76476,     0.76577,     0.76677,     0.76777,\n",
              "           0.76877,     0.76977,     0.77077,     0.77177,     0.77277,     0.77377,     0.77477,     0.77578,     0.77678,     0.77778,     0.77878,     0.77978,     0.78078,     0.78178,     0.78278,     0.78378,     0.78478,     0.78579,     0.78679,     0.78779,     0.78879,     0.78979,     0.79079,     0.79179,\n",
              "           0.79279,     0.79379,     0.79479,      0.7958,      0.7968,      0.7978,      0.7988,      0.7998,      0.8008,      0.8018,      0.8028,      0.8038,      0.8048,     0.80581,     0.80681,     0.80781,     0.80881,     0.80981,     0.81081,     0.81181,     0.81281,     0.81381,     0.81481,     0.81582,\n",
              "           0.81682,     0.81782,     0.81882,     0.81982,     0.82082,     0.82182,     0.82282,     0.82382,     0.82482,     0.82583,     0.82683,     0.82783,     0.82883,     0.82983,     0.83083,     0.83183,     0.83283,     0.83383,     0.83483,     0.83584,     0.83684,     0.83784,     0.83884,     0.83984,\n",
              "           0.84084,     0.84184,     0.84284,     0.84384,     0.84484,     0.84585,     0.84685,     0.84785,     0.84885,     0.84985,     0.85085,     0.85185,     0.85285,     0.85385,     0.85485,     0.85586,     0.85686,     0.85786,     0.85886,     0.85986,     0.86086,     0.86186,     0.86286,     0.86386,\n",
              "           0.86486,     0.86587,     0.86687,     0.86787,     0.86887,     0.86987,     0.87087,     0.87187,     0.87287,     0.87387,     0.87487,     0.87588,     0.87688,     0.87788,     0.87888,     0.87988,     0.88088,     0.88188,     0.88288,     0.88388,     0.88488,     0.88589,     0.88689,     0.88789,\n",
              "           0.88889,     0.88989,     0.89089,     0.89189,     0.89289,     0.89389,     0.89489,      0.8959,      0.8969,      0.8979,      0.8989,      0.8999,      0.9009,      0.9019,      0.9029,      0.9039,      0.9049,     0.90591,     0.90691,     0.90791,     0.90891,     0.90991,     0.91091,     0.91191,\n",
              "           0.91291,     0.91391,     0.91491,     0.91592,     0.91692,     0.91792,     0.91892,     0.91992,     0.92092,     0.92192,     0.92292,     0.92392,     0.92492,     0.92593,     0.92693,     0.92793,     0.92893,     0.92993,     0.93093,     0.93193,     0.93293,     0.93393,     0.93493,     0.93594,\n",
              "           0.93694,     0.93794,     0.93894,     0.93994,     0.94094,     0.94194,     0.94294,     0.94394,     0.94494,     0.94595,     0.94695,     0.94795,     0.94895,     0.94995,     0.95095,     0.95195,     0.95295,     0.95395,     0.95495,     0.95596,     0.95696,     0.95796,     0.95896,     0.95996,\n",
              "           0.96096,     0.96196,     0.96296,     0.96396,     0.96496,     0.96597,     0.96697,     0.96797,     0.96897,     0.96997,     0.97097,     0.97197,     0.97297,     0.97397,     0.97497,     0.97598,     0.97698,     0.97798,     0.97898,     0.97998,     0.98098,     0.98198,     0.98298,     0.98398,\n",
              "           0.98498,     0.98599,     0.98699,     0.98799,     0.98899,     0.98999,     0.99099,     0.99199,     0.99299,     0.99399,     0.99499,       0.996,       0.997,       0.998,       0.999,           1]), array([[          1,           1,           1,           1,           1,           1,           1,           1,           1,           1,           1,           1,           1,           1,           1,           1,           1,           1,           1,           1,           1,           1,           1,\n",
              "                  1,           1,           1,           1,           1,           1,           1,           1,           1,           1,           1,           1,           1,           1,           1,           1,           1,           1,           1,           1,           1,           1,           1,\n",
              "                  1,           1,           1,           1,           1,           1,           1,           1,           1,           1,           1,           1,           1,           1,           1,           1,           1,           1,           1,           1,           1,           1,           1,\n",
              "                  1,           1,           1,           1,           1,           1,           1,           1,           1,           1,           1,           1,           1,           1,           1,           1,           1,           1,           1,           1,           1,           1,           1,\n",
              "                  1,           1,           1,           1,           1,           1,           1,           1,           1,           1,           1,           1,           1,           1,           1,           1,           1,           1,           1,           1,           1,           1,           1,\n",
              "                  1,           1,           1,           1,           1,           1,           1,           1,           1,           1,           1,           1,           1,           1,           1,           1,           1,           1,           1,           1,           1,           1,           1,\n",
              "                  1,           1,           1,           1,           1,           1,           1,           1,           1,           1,           1,           1,           1,           1,           1,           1,           1,           1,           1,           1,           1,           1,           1,\n",
              "                  1,           1,           1,           1,           1,           1,           1,           1,           1,           1,           1,           1,           1,           1,           1,           1,           1,           1,           1,           1,           1,           1,           1,\n",
              "                  1,           1,           1,           1,           1,           1,           1,           1,           1,           1,           1,           1,           1,           1,           1,           1,           1,           1,           1,           1,           1,           1,           1,\n",
              "                  1,           1,           1,           1,           1,           1,           1,           1,           1,           1,           1,           1,           1,           1,           1,           1,           1,           1,           1,           1,           1,           1,           1,\n",
              "                  1,           1,           1,           1,           1,           1,           1,           1,           1,           1,           1,           1,           1,           1,           1,           1,           1,           1,           1,           1,           1,           1,           1,\n",
              "                  1,           1,           1,           1,           1,           1,           1,           1,           1,           1,           1,           1,           1,           1,           1,           1,     0.99915,     0.99915,     0.99915,     0.99915,     0.99915,     0.99915,     0.99915,\n",
              "            0.99915,     0.99915,     0.99915,     0.99915,     0.99915,     0.99915,     0.99915,     0.99915,     0.99915,     0.99915,     0.99915,     0.99915,     0.99915,     0.99915,     0.99915,     0.99915,     0.99915,     0.99915,     0.99915,     0.99915,     0.99915,     0.99915,     0.99915,\n",
              "            0.99915,     0.99915,     0.99915,     0.99915,     0.99915,     0.99915,     0.99915,     0.99915,     0.99915,     0.99915,     0.99915,     0.99915,     0.99915,     0.99915,     0.99915,     0.99915,     0.99915,     0.99915,     0.99915,     0.99915,     0.99915,     0.99915,     0.99915,\n",
              "            0.99915,     0.99915,     0.99915,     0.99915,     0.99915,     0.99915,     0.99915,     0.99915,     0.99915,     0.99915,     0.99915,     0.99915,     0.99915,     0.99915,     0.99915,     0.99915,     0.99915,     0.99915,     0.99915,     0.99915,     0.99915,     0.99915,     0.99915,\n",
              "            0.99915,     0.99915,     0.99915,     0.99915,     0.99915,     0.99915,     0.99915,     0.99915,     0.99915,     0.99915,     0.99915,     0.99915,     0.99915,     0.99915,     0.99915,     0.99915,     0.99915,     0.99915,     0.99915,     0.99915,     0.99915,     0.99915,     0.99915,\n",
              "            0.99915,     0.99915,     0.99915,     0.99915,     0.99915,     0.99915,     0.99915,     0.99915,     0.99915,     0.99915,     0.99915,     0.99915,     0.99915,     0.99915,     0.99915,     0.99915,     0.99915,     0.99915,     0.99915,     0.99915,     0.99915,     0.99915,     0.99915,\n",
              "            0.99915,     0.99915,     0.99915,     0.99915,     0.99915,     0.99915,     0.99915,     0.99915,     0.99915,     0.99915,     0.99915,     0.99915,     0.99915,     0.99915,     0.99915,     0.99915,     0.99915,     0.99915,     0.99915,     0.99915,     0.99915,     0.99915,     0.99915,\n",
              "            0.99915,     0.99915,     0.99915,     0.99915,     0.99915,     0.99915,     0.99915,     0.99915,     0.99915,     0.99915,     0.99915,     0.99915,     0.99915,     0.99915,     0.99915,     0.99915,     0.99915,     0.99915,     0.99915,     0.99915,     0.99915,     0.99915,     0.99915,\n",
              "            0.99915,     0.99915,     0.99915,     0.99915,     0.99915,     0.99915,     0.99915,     0.99915,     0.99915,     0.99915,     0.99915,     0.99915,     0.99915,     0.99915,     0.99915,     0.99915,     0.99915,     0.99915,     0.99915,     0.99915,     0.99915,     0.99915,     0.99915,\n",
              "            0.99915,     0.99915,     0.99915,     0.99915,     0.99915,     0.99915,     0.99915,     0.99915,     0.99915,     0.99915,     0.99915,     0.99915,     0.99915,     0.99915,     0.99915,     0.99915,     0.99915,     0.99915,     0.99915,     0.99915,     0.99915,     0.99915,     0.99915,\n",
              "            0.99915,     0.99915,     0.99915,     0.99915,     0.99915,     0.99915,     0.99915,     0.99915,     0.99915,     0.99915,     0.99915,     0.99915,     0.99915,     0.99915,     0.99915,     0.99915,     0.99915,     0.99915,     0.99915,     0.99915,     0.99915,     0.99915,     0.99915,\n",
              "            0.99915,     0.99915,     0.99915,     0.99915,     0.99915,     0.99915,     0.99915,     0.99915,     0.99915,     0.99915,     0.99915,     0.99915,     0.99915,     0.99915,     0.99915,     0.99915,     0.99915,     0.99915,     0.99915,     0.99915,     0.99915,     0.99915,     0.99915,\n",
              "            0.99915,     0.99915,     0.99915,     0.99915,     0.99915,     0.99915,     0.99915,     0.99915,     0.99915,     0.99915,     0.99915,     0.99915,     0.99915,     0.99915,     0.99915,     0.99915,     0.99915,     0.99915,     0.99915,     0.99915,     0.99915,     0.99915,     0.99915,\n",
              "            0.99832,     0.99832,     0.99832,     0.99832,     0.99832,     0.99832,     0.99766,     0.99766,     0.99766,     0.99766,     0.99766,     0.99766,     0.99766,     0.99766,     0.99766,     0.99766,     0.99766,     0.99766,     0.99766,     0.99766,     0.99766,     0.99766,     0.99766,\n",
              "            0.99766,     0.99766,     0.99766,     0.99766,     0.99766,     0.99766,     0.99766,     0.99766,     0.99766,     0.99766,     0.99766,     0.99766,     0.99766,     0.99766,     0.99766,     0.99766,     0.99766,     0.99766,     0.99766,     0.99766,     0.99766,     0.99766,     0.99766,\n",
              "            0.99766,     0.99743,     0.99743,     0.99743,     0.99743,     0.99743,     0.99743,     0.99743,     0.99743,     0.99743,     0.99743,     0.99743,     0.99743,     0.99743,     0.99743,     0.99743,     0.99743,     0.99743,     0.99743,     0.99743,     0.99743,     0.99743,     0.99743,\n",
              "            0.99743,     0.99743,     0.99743,     0.99743,     0.99743,     0.99743,     0.99743,     0.99743,     0.99743,     0.99743,     0.99743,     0.99743,     0.99743,     0.99743,     0.99743,     0.99743,     0.99743,     0.99743,     0.99743,     0.99743,     0.99743,     0.99743,     0.99743,\n",
              "            0.99743,     0.99743,     0.99743,     0.99743,     0.99743,     0.99743,     0.99743,     0.99743,     0.99743,     0.99743,     0.99743,     0.99743,     0.99743,     0.99743,     0.99743,     0.99743,     0.99743,     0.99743,     0.99743,     0.99743,     0.99743,     0.99743,     0.99743,\n",
              "            0.99743,     0.99743,     0.99743,     0.99743,     0.99743,     0.99743,     0.99743,     0.99743,     0.99743,     0.99743,     0.99743,     0.99743,     0.99743,     0.99743,     0.99743,     0.99743,     0.99743,     0.99743,     0.99743,     0.99743,     0.99743,     0.99743,     0.99743,\n",
              "            0.99743,     0.99743,     0.99743,     0.99743,     0.99743,     0.99743,     0.99743,     0.99743,     0.99743,     0.99743,     0.99743,     0.99743,     0.99743,     0.99743,     0.99743,     0.99743,     0.99743,     0.99743,     0.99743,     0.99743,     0.99743,     0.99743,     0.99743,\n",
              "            0.99743,     0.99743,     0.99743,     0.99743,     0.99743,     0.99743,     0.99743,     0.99743,     0.99743,     0.99743,     0.99743,     0.99743,     0.99743,     0.99743,     0.99684,     0.99684,     0.99684,     0.99684,     0.99684,     0.99684,     0.99684,     0.99684,     0.99684,\n",
              "            0.99684,     0.99684,     0.99684,     0.99684,     0.99622,     0.99562,     0.99562,     0.99562,     0.99562,     0.99562,     0.99562,     0.99518,     0.99518,     0.99518,     0.99518,     0.99518,     0.99518,     0.99518,     0.99518,     0.99518,     0.99518,     0.99518,     0.99518,\n",
              "            0.99518,     0.99518,     0.99518,     0.99518,     0.99518,     0.99518,     0.99518,     0.99518,     0.99518,     0.99518,     0.99518,     0.99518,     0.99518,     0.99518,     0.99518,     0.99518,     0.99516,     0.99516,     0.99516,     0.99516,     0.99516,     0.99516,     0.99516,\n",
              "            0.99516,     0.99516,     0.99516,     0.99516,     0.99516,     0.99516,     0.99516,     0.99516,     0.99516,     0.99516,     0.99516,     0.99516,     0.99516,     0.99516,     0.99516,     0.99516,     0.99516,     0.99516,     0.99516,     0.99516,     0.99516,     0.99516,     0.99516,\n",
              "            0.99516,     0.99516,     0.99516,     0.99516,     0.99516,     0.99516,     0.99516,     0.99516,     0.99516,     0.99516,     0.99516,     0.99516,     0.99516,     0.99516,     0.99516,     0.99516,     0.99516,     0.99516,     0.99516,     0.99516,     0.99516,     0.99516,     0.99516,\n",
              "            0.99516,     0.99516,     0.99516,     0.99516,     0.99516,     0.99516,     0.99516,     0.99516,     0.99516,     0.99516,     0.99516,     0.99516,     0.99516,     0.99516,     0.99516,     0.99516,     0.99516,     0.99516,     0.99516,     0.99516,     0.99516,     0.99516,     0.99516,\n",
              "            0.99516,     0.99516,     0.99516,     0.99516,     0.99516,     0.99516,     0.99516,     0.99516,     0.99516,     0.99516,     0.99516,     0.99516,     0.99516,     0.99516,     0.99516,     0.99516,     0.99516,     0.99468,     0.99468,     0.99468,     0.99468,     0.99468,     0.99468,\n",
              "            0.99468,     0.99468,     0.99468,     0.99442,     0.99442,     0.99442,     0.99442,     0.99442,     0.99442,     0.99442,     0.99442,     0.99442,     0.99442,     0.99442,     0.99442,     0.99442,     0.99442,     0.99442,     0.99442,     0.99442,     0.99442,     0.99442,     0.99442,\n",
              "            0.99442,     0.99442,     0.99442,     0.99442,     0.99442,     0.99442,     0.99442,     0.99442,     0.99442,     0.99442,     0.99442,     0.99442,     0.99442,     0.99442,     0.99442,     0.99442,     0.99442,     0.99442,     0.99442,     0.99442,     0.99442,       0.994,       0.994,\n",
              "              0.994,       0.994,       0.994,       0.994,       0.994,       0.994,       0.994,       0.994,       0.994,       0.994,       0.994,       0.994,     0.99353,     0.99353,     0.99353,     0.99305,     0.99305,     0.99305,     0.99207,     0.99113,     0.99113,     0.99113,     0.99113,\n",
              "            0.99066,     0.99066,     0.98972,     0.98972,     0.98927,     0.98927,     0.98927,     0.98927,     0.98882,     0.98882,     0.98882,      0.9874,     0.98599,     0.98599,     0.98505,     0.98365,     0.98177,     0.97851,      0.9725,     0.97162,     0.97119,     0.96984,     0.96487,\n",
              "            0.96222,     0.96089,     0.95427,     0.94819,     0.93288,     0.92545,     0.90493,     0.89261,      0.8524,     0.83273,     0.82235,     0.81199,     0.79604,      0.7816,     0.74875,     0.70839,     0.64196,     0.60882,     0.53205,     0.26228,     0.18247,     0.16844,      0.1544,\n",
              "            0.14036,     0.12633,     0.11229,    0.098254,    0.084218,    0.070182,    0.056145,    0.042109,    0.028073,    0.014036,           0]]), 'Recall', 'Precision'], [array([          0,    0.001001,    0.002002,    0.003003,    0.004004,    0.005005,    0.006006,    0.007007,    0.008008,    0.009009,     0.01001,    0.011011,    0.012012,    0.013013,    0.014014,    0.015015,    0.016016,    0.017017,    0.018018,    0.019019,     0.02002,    0.021021,    0.022022,    0.023023,\n",
              "          0.024024,    0.025025,    0.026026,    0.027027,    0.028028,    0.029029,     0.03003,    0.031031,    0.032032,    0.033033,    0.034034,    0.035035,    0.036036,    0.037037,    0.038038,    0.039039,     0.04004,    0.041041,    0.042042,    0.043043,    0.044044,    0.045045,    0.046046,    0.047047,\n",
              "          0.048048,    0.049049,     0.05005,    0.051051,    0.052052,    0.053053,    0.054054,    0.055055,    0.056056,    0.057057,    0.058058,    0.059059,     0.06006,    0.061061,    0.062062,    0.063063,    0.064064,    0.065065,    0.066066,    0.067067,    0.068068,    0.069069,     0.07007,    0.071071,\n",
              "          0.072072,    0.073073,    0.074074,    0.075075,    0.076076,    0.077077,    0.078078,    0.079079,     0.08008,    0.081081,    0.082082,    0.083083,    0.084084,    0.085085,    0.086086,    0.087087,    0.088088,    0.089089,     0.09009,    0.091091,    0.092092,    0.093093,    0.094094,    0.095095,\n",
              "          0.096096,    0.097097,    0.098098,    0.099099,      0.1001,      0.1011,      0.1021,      0.1031,      0.1041,     0.10511,     0.10611,     0.10711,     0.10811,     0.10911,     0.11011,     0.11111,     0.11211,     0.11311,     0.11411,     0.11512,     0.11612,     0.11712,     0.11812,     0.11912,\n",
              "           0.12012,     0.12112,     0.12212,     0.12312,     0.12412,     0.12513,     0.12613,     0.12713,     0.12813,     0.12913,     0.13013,     0.13113,     0.13213,     0.13313,     0.13413,     0.13514,     0.13614,     0.13714,     0.13814,     0.13914,     0.14014,     0.14114,     0.14214,     0.14314,\n",
              "           0.14414,     0.14515,     0.14615,     0.14715,     0.14815,     0.14915,     0.15015,     0.15115,     0.15215,     0.15315,     0.15415,     0.15516,     0.15616,     0.15716,     0.15816,     0.15916,     0.16016,     0.16116,     0.16216,     0.16316,     0.16416,     0.16517,     0.16617,     0.16717,\n",
              "           0.16817,     0.16917,     0.17017,     0.17117,     0.17217,     0.17317,     0.17417,     0.17518,     0.17618,     0.17718,     0.17818,     0.17918,     0.18018,     0.18118,     0.18218,     0.18318,     0.18418,     0.18519,     0.18619,     0.18719,     0.18819,     0.18919,     0.19019,     0.19119,\n",
              "           0.19219,     0.19319,     0.19419,      0.1952,      0.1962,      0.1972,      0.1982,      0.1992,      0.2002,      0.2012,      0.2022,      0.2032,      0.2042,     0.20521,     0.20621,     0.20721,     0.20821,     0.20921,     0.21021,     0.21121,     0.21221,     0.21321,     0.21421,     0.21522,\n",
              "           0.21622,     0.21722,     0.21822,     0.21922,     0.22022,     0.22122,     0.22222,     0.22322,     0.22422,     0.22523,     0.22623,     0.22723,     0.22823,     0.22923,     0.23023,     0.23123,     0.23223,     0.23323,     0.23423,     0.23524,     0.23624,     0.23724,     0.23824,     0.23924,\n",
              "           0.24024,     0.24124,     0.24224,     0.24324,     0.24424,     0.24525,     0.24625,     0.24725,     0.24825,     0.24925,     0.25025,     0.25125,     0.25225,     0.25325,     0.25425,     0.25526,     0.25626,     0.25726,     0.25826,     0.25926,     0.26026,     0.26126,     0.26226,     0.26326,\n",
              "           0.26426,     0.26527,     0.26627,     0.26727,     0.26827,     0.26927,     0.27027,     0.27127,     0.27227,     0.27327,     0.27427,     0.27528,     0.27628,     0.27728,     0.27828,     0.27928,     0.28028,     0.28128,     0.28228,     0.28328,     0.28428,     0.28529,     0.28629,     0.28729,\n",
              "           0.28829,     0.28929,     0.29029,     0.29129,     0.29229,     0.29329,     0.29429,      0.2953,      0.2963,      0.2973,      0.2983,      0.2993,      0.3003,      0.3013,      0.3023,      0.3033,      0.3043,     0.30531,     0.30631,     0.30731,     0.30831,     0.30931,     0.31031,     0.31131,\n",
              "           0.31231,     0.31331,     0.31431,     0.31532,     0.31632,     0.31732,     0.31832,     0.31932,     0.32032,     0.32132,     0.32232,     0.32332,     0.32432,     0.32533,     0.32633,     0.32733,     0.32833,     0.32933,     0.33033,     0.33133,     0.33233,     0.33333,     0.33433,     0.33534,\n",
              "           0.33634,     0.33734,     0.33834,     0.33934,     0.34034,     0.34134,     0.34234,     0.34334,     0.34434,     0.34535,     0.34635,     0.34735,     0.34835,     0.34935,     0.35035,     0.35135,     0.35235,     0.35335,     0.35435,     0.35536,     0.35636,     0.35736,     0.35836,     0.35936,\n",
              "           0.36036,     0.36136,     0.36236,     0.36336,     0.36436,     0.36537,     0.36637,     0.36737,     0.36837,     0.36937,     0.37037,     0.37137,     0.37237,     0.37337,     0.37437,     0.37538,     0.37638,     0.37738,     0.37838,     0.37938,     0.38038,     0.38138,     0.38238,     0.38338,\n",
              "           0.38438,     0.38539,     0.38639,     0.38739,     0.38839,     0.38939,     0.39039,     0.39139,     0.39239,     0.39339,     0.39439,      0.3954,      0.3964,      0.3974,      0.3984,      0.3994,      0.4004,      0.4014,      0.4024,      0.4034,      0.4044,     0.40541,     0.40641,     0.40741,\n",
              "           0.40841,     0.40941,     0.41041,     0.41141,     0.41241,     0.41341,     0.41441,     0.41542,     0.41642,     0.41742,     0.41842,     0.41942,     0.42042,     0.42142,     0.42242,     0.42342,     0.42442,     0.42543,     0.42643,     0.42743,     0.42843,     0.42943,     0.43043,     0.43143,\n",
              "           0.43243,     0.43343,     0.43443,     0.43544,     0.43644,     0.43744,     0.43844,     0.43944,     0.44044,     0.44144,     0.44244,     0.44344,     0.44444,     0.44545,     0.44645,     0.44745,     0.44845,     0.44945,     0.45045,     0.45145,     0.45245,     0.45345,     0.45445,     0.45546,\n",
              "           0.45646,     0.45746,     0.45846,     0.45946,     0.46046,     0.46146,     0.46246,     0.46346,     0.46446,     0.46547,     0.46647,     0.46747,     0.46847,     0.46947,     0.47047,     0.47147,     0.47247,     0.47347,     0.47447,     0.47548,     0.47648,     0.47748,     0.47848,     0.47948,\n",
              "           0.48048,     0.48148,     0.48248,     0.48348,     0.48448,     0.48549,     0.48649,     0.48749,     0.48849,     0.48949,     0.49049,     0.49149,     0.49249,     0.49349,     0.49449,      0.4955,      0.4965,      0.4975,      0.4985,      0.4995,      0.5005,      0.5015,      0.5025,      0.5035,\n",
              "            0.5045,     0.50551,     0.50651,     0.50751,     0.50851,     0.50951,     0.51051,     0.51151,     0.51251,     0.51351,     0.51451,     0.51552,     0.51652,     0.51752,     0.51852,     0.51952,     0.52052,     0.52152,     0.52252,     0.52352,     0.52452,     0.52553,     0.52653,     0.52753,\n",
              "           0.52853,     0.52953,     0.53053,     0.53153,     0.53253,     0.53353,     0.53453,     0.53554,     0.53654,     0.53754,     0.53854,     0.53954,     0.54054,     0.54154,     0.54254,     0.54354,     0.54454,     0.54555,     0.54655,     0.54755,     0.54855,     0.54955,     0.55055,     0.55155,\n",
              "           0.55255,     0.55355,     0.55455,     0.55556,     0.55656,     0.55756,     0.55856,     0.55956,     0.56056,     0.56156,     0.56256,     0.56356,     0.56456,     0.56557,     0.56657,     0.56757,     0.56857,     0.56957,     0.57057,     0.57157,     0.57257,     0.57357,     0.57457,     0.57558,\n",
              "           0.57658,     0.57758,     0.57858,     0.57958,     0.58058,     0.58158,     0.58258,     0.58358,     0.58458,     0.58559,     0.58659,     0.58759,     0.58859,     0.58959,     0.59059,     0.59159,     0.59259,     0.59359,     0.59459,      0.5956,      0.5966,      0.5976,      0.5986,      0.5996,\n",
              "            0.6006,      0.6016,      0.6026,      0.6036,      0.6046,     0.60561,     0.60661,     0.60761,     0.60861,     0.60961,     0.61061,     0.61161,     0.61261,     0.61361,     0.61461,     0.61562,     0.61662,     0.61762,     0.61862,     0.61962,     0.62062,     0.62162,     0.62262,     0.62362,\n",
              "           0.62462,     0.62563,     0.62663,     0.62763,     0.62863,     0.62963,     0.63063,     0.63163,     0.63263,     0.63363,     0.63463,     0.63564,     0.63664,     0.63764,     0.63864,     0.63964,     0.64064,     0.64164,     0.64264,     0.64364,     0.64464,     0.64565,     0.64665,     0.64765,\n",
              "           0.64865,     0.64965,     0.65065,     0.65165,     0.65265,     0.65365,     0.65465,     0.65566,     0.65666,     0.65766,     0.65866,     0.65966,     0.66066,     0.66166,     0.66266,     0.66366,     0.66466,     0.66567,     0.66667,     0.66767,     0.66867,     0.66967,     0.67067,     0.67167,\n",
              "           0.67267,     0.67367,     0.67467,     0.67568,     0.67668,     0.67768,     0.67868,     0.67968,     0.68068,     0.68168,     0.68268,     0.68368,     0.68468,     0.68569,     0.68669,     0.68769,     0.68869,     0.68969,     0.69069,     0.69169,     0.69269,     0.69369,     0.69469,      0.6957,\n",
              "            0.6967,      0.6977,      0.6987,      0.6997,      0.7007,      0.7017,      0.7027,      0.7037,      0.7047,     0.70571,     0.70671,     0.70771,     0.70871,     0.70971,     0.71071,     0.71171,     0.71271,     0.71371,     0.71471,     0.71572,     0.71672,     0.71772,     0.71872,     0.71972,\n",
              "           0.72072,     0.72172,     0.72272,     0.72372,     0.72472,     0.72573,     0.72673,     0.72773,     0.72873,     0.72973,     0.73073,     0.73173,     0.73273,     0.73373,     0.73473,     0.73574,     0.73674,     0.73774,     0.73874,     0.73974,     0.74074,     0.74174,     0.74274,     0.74374,\n",
              "           0.74474,     0.74575,     0.74675,     0.74775,     0.74875,     0.74975,     0.75075,     0.75175,     0.75275,     0.75375,     0.75475,     0.75576,     0.75676,     0.75776,     0.75876,     0.75976,     0.76076,     0.76176,     0.76276,     0.76376,     0.76476,     0.76577,     0.76677,     0.76777,\n",
              "           0.76877,     0.76977,     0.77077,     0.77177,     0.77277,     0.77377,     0.77477,     0.77578,     0.77678,     0.77778,     0.77878,     0.77978,     0.78078,     0.78178,     0.78278,     0.78378,     0.78478,     0.78579,     0.78679,     0.78779,     0.78879,     0.78979,     0.79079,     0.79179,\n",
              "           0.79279,     0.79379,     0.79479,      0.7958,      0.7968,      0.7978,      0.7988,      0.7998,      0.8008,      0.8018,      0.8028,      0.8038,      0.8048,     0.80581,     0.80681,     0.80781,     0.80881,     0.80981,     0.81081,     0.81181,     0.81281,     0.81381,     0.81481,     0.81582,\n",
              "           0.81682,     0.81782,     0.81882,     0.81982,     0.82082,     0.82182,     0.82282,     0.82382,     0.82482,     0.82583,     0.82683,     0.82783,     0.82883,     0.82983,     0.83083,     0.83183,     0.83283,     0.83383,     0.83483,     0.83584,     0.83684,     0.83784,     0.83884,     0.83984,\n",
              "           0.84084,     0.84184,     0.84284,     0.84384,     0.84484,     0.84585,     0.84685,     0.84785,     0.84885,     0.84985,     0.85085,     0.85185,     0.85285,     0.85385,     0.85485,     0.85586,     0.85686,     0.85786,     0.85886,     0.85986,     0.86086,     0.86186,     0.86286,     0.86386,\n",
              "           0.86486,     0.86587,     0.86687,     0.86787,     0.86887,     0.86987,     0.87087,     0.87187,     0.87287,     0.87387,     0.87487,     0.87588,     0.87688,     0.87788,     0.87888,     0.87988,     0.88088,     0.88188,     0.88288,     0.88388,     0.88488,     0.88589,     0.88689,     0.88789,\n",
              "           0.88889,     0.88989,     0.89089,     0.89189,     0.89289,     0.89389,     0.89489,      0.8959,      0.8969,      0.8979,      0.8989,      0.8999,      0.9009,      0.9019,      0.9029,      0.9039,      0.9049,     0.90591,     0.90691,     0.90791,     0.90891,     0.90991,     0.91091,     0.91191,\n",
              "           0.91291,     0.91391,     0.91491,     0.91592,     0.91692,     0.91792,     0.91892,     0.91992,     0.92092,     0.92192,     0.92292,     0.92392,     0.92492,     0.92593,     0.92693,     0.92793,     0.92893,     0.92993,     0.93093,     0.93193,     0.93293,     0.93393,     0.93493,     0.93594,\n",
              "           0.93694,     0.93794,     0.93894,     0.93994,     0.94094,     0.94194,     0.94294,     0.94394,     0.94494,     0.94595,     0.94695,     0.94795,     0.94895,     0.94995,     0.95095,     0.95195,     0.95295,     0.95395,     0.95495,     0.95596,     0.95696,     0.95796,     0.95896,     0.95996,\n",
              "           0.96096,     0.96196,     0.96296,     0.96396,     0.96496,     0.96597,     0.96697,     0.96797,     0.96897,     0.96997,     0.97097,     0.97197,     0.97297,     0.97397,     0.97497,     0.97598,     0.97698,     0.97798,     0.97898,     0.97998,     0.98098,     0.98198,     0.98298,     0.98398,\n",
              "           0.98498,     0.98599,     0.98699,     0.98799,     0.98899,     0.98999,     0.99099,     0.99199,     0.99299,     0.99399,     0.99499,       0.996,       0.997,       0.998,       0.999,           1]), array([[    0.31039,     0.31039,     0.41977,     0.49089,     0.54177,     0.58201,     0.61641,      0.6413,     0.66352,     0.68179,     0.70072,     0.71477,      0.7276,     0.73923,     0.74823,     0.75649,     0.76439,     0.77266,     0.77952,     0.78714,     0.79318,     0.79935,     0.80413,\n",
              "            0.80966,     0.81586,     0.82059,     0.82526,     0.82934,     0.83249,     0.83806,      0.8409,     0.84339,     0.84606,     0.84941,     0.85258,     0.85554,     0.85774,     0.85999,     0.86187,      0.8645,     0.86658,     0.86855,      0.8697,     0.87182,     0.87368,     0.87484,\n",
              "            0.87678,     0.87814,      0.8794,     0.88116,     0.88311,      0.8844,     0.88542,     0.88741,     0.88895,     0.88947,     0.89047,     0.89207,       0.893,     0.89286,     0.89365,     0.89441,     0.89547,      0.8974,     0.89863,     0.90019,       0.901,     0.90199,     0.90284,\n",
              "            0.90344,      0.9045,      0.9051,     0.90548,     0.90581,     0.90656,     0.90807,     0.90825,     0.90929,     0.90961,     0.91003,     0.91021,     0.91104,      0.9114,     0.91273,     0.91305,     0.91381,     0.91494,     0.91646,     0.91661,     0.91763,     0.91785,     0.91846,\n",
              "            0.91908,     0.91934,     0.91953,     0.91971,     0.92051,     0.92081,     0.92202,     0.92272,     0.92332,      0.9245,     0.92522,     0.92537,     0.92566,      0.9258,     0.92617,     0.92648,     0.92657,     0.92674,     0.92768,     0.92822,     0.92939,     0.92974,     0.92999,\n",
              "            0.93016,     0.93053,     0.93084,     0.93097,      0.9311,     0.93169,     0.93152,     0.93147,     0.93164,     0.93177,      0.9322,     0.93263,     0.93273,     0.93307,     0.93376,     0.93423,     0.93448,     0.93483,     0.93522,     0.93601,     0.93617,     0.93666,     0.93677,\n",
              "            0.93696,     0.93729,     0.93751,     0.93771,     0.93787,     0.93765,     0.93778,     0.93783,     0.93805,     0.93831,     0.93842,     0.93855,     0.93873,     0.93898,     0.93912,     0.93926,      0.9394,     0.93957,     0.93972,     0.94015,     0.94039,     0.94047,     0.94055,\n",
              "            0.94073,     0.94133,     0.94179,     0.94191,     0.94201,     0.94229,     0.94259,     0.94276,     0.94288,     0.94322,     0.94339,     0.94345,     0.94352,     0.94368,     0.94408,     0.94421,     0.94441,      0.9446,     0.94478,     0.94511,     0.94556,     0.94569,     0.94621,\n",
              "            0.94646,     0.94662,     0.94675,     0.94709,      0.9472,     0.94728,     0.94734,      0.9474,     0.94746,     0.94752,     0.94758,     0.94764,     0.94788,     0.94813,     0.94821,      0.9483,     0.94814,     0.94814,     0.94826,     0.94841,     0.94832,      0.9485,     0.94862,\n",
              "            0.94871,     0.94878,     0.94885,     0.94895,     0.94927,     0.94938,     0.94943,     0.94948,     0.94952,     0.94959,     0.94977,      0.9501,      0.9502,     0.95069,     0.95086,     0.95124,     0.95148,     0.95173,     0.95168,     0.95162,     0.95156,     0.95174,      0.9519,\n",
              "            0.95216,     0.95243,     0.95259,     0.95274,     0.95299,     0.95393,     0.95404,     0.95436,     0.95446,     0.95456,     0.95494,     0.95529,     0.95539,     0.95548,     0.95554,      0.9556,     0.95566,     0.95567,     0.95565,     0.95563,     0.95562,      0.9556,     0.95559,\n",
              "            0.95557,     0.95555,     0.95554,     0.95552,      0.9555,     0.95549,     0.95547,     0.95545,     0.95544,     0.95557,     0.95571,     0.95586,     0.95611,     0.95616,     0.95622,     0.95628,     0.95635,     0.95651,     0.95674,     0.95678,     0.95681,     0.95685,     0.95688,\n",
              "            0.95692,     0.95695,     0.95699,     0.95702,     0.95705,     0.95708,     0.95711,     0.95714,     0.95717,     0.95728,     0.95745,     0.95795,     0.95814,     0.95829,     0.95842,     0.95854,     0.95861,     0.95868,     0.95875,     0.95888,     0.95892,     0.95882,     0.95872,\n",
              "            0.95895,     0.95897,       0.959,     0.95902,     0.95905,     0.95907,      0.9591,     0.95912,     0.95915,     0.95941,     0.95954,     0.95959,     0.95954,     0.95949,     0.95945,      0.9594,     0.95961,     0.95967,     0.95972,     0.95977,     0.95982,     0.95986,      0.9599,\n",
              "            0.95993,     0.95997,     0.96001,     0.96004,      0.9601,     0.96015,     0.96021,     0.96026,     0.96039,     0.96055,     0.96072,     0.96077,     0.96082,     0.96087,     0.96093,     0.96096,     0.96099,     0.96103,     0.96106,     0.96109,     0.96112,     0.96116,     0.96128,\n",
              "            0.96137,     0.96146,     0.96155,     0.96166,     0.96178,     0.96177,     0.96171,     0.96166,      0.9616,     0.96161,     0.96174,     0.96216,     0.96239,     0.96251,     0.96257,     0.96264,     0.96272,     0.96283,     0.96318,     0.96331,     0.96366,     0.96377,     0.96387,\n",
              "            0.96395,     0.96403,     0.96407,     0.96411,     0.96414,     0.96418,     0.96421,     0.96425,     0.96429,     0.96433,     0.96437,     0.96441,     0.96446,     0.96445,     0.96433,     0.96428,      0.9644,     0.96452,     0.96465,     0.96477,     0.96489,     0.96458,     0.96466,\n",
              "            0.96478,     0.96489,     0.96491,     0.96493,     0.96495,     0.96497,     0.96499,     0.96501,     0.96503,     0.96505,     0.96507,     0.96509,     0.96511,     0.96539,     0.96545,     0.96552,     0.96555,     0.96549,     0.96543,     0.96537,     0.96534,     0.96546,     0.96554,\n",
              "             0.9656,     0.96566,     0.96572,     0.96613,     0.96625,     0.96633,     0.96641,     0.96646,      0.9665,     0.96654,     0.96658,     0.96662,     0.96667,     0.96679,      0.9669,     0.96702,     0.96735,     0.96741,     0.96746,     0.96752,     0.96755,     0.96753,      0.9675,\n",
              "            0.96747,     0.96745,     0.96742,      0.9674,     0.96737,     0.96735,     0.96732,     0.96729,     0.96726,     0.96723,      0.9672,     0.96717,     0.96714,      0.9671,      0.9673,     0.96732,     0.96734,     0.96736,     0.96738,      0.9674,     0.96742,     0.96744,     0.96746,\n",
              "            0.96748,      0.9675,     0.96752,     0.96744,     0.96732,     0.96718,     0.96705,     0.96709,     0.96721,     0.96708,      0.9672,     0.96713,       0.967,     0.96708,     0.96719,     0.96731,     0.96743,     0.96753,     0.96765,      0.9679,     0.96792,     0.96794,     0.96796,\n",
              "            0.96798,       0.968,     0.96802,     0.96803,     0.96805,     0.96807,     0.96809,     0.96837,     0.96848,     0.96858,     0.96862,     0.96866,     0.96869,     0.96873,     0.96877,     0.96885,     0.96896,     0.96908,      0.9692,     0.96951,     0.96957,     0.96963,     0.96969,\n",
              "            0.96963,     0.96951,     0.96955,     0.96967,     0.96978,      0.9699,     0.96988,     0.96981,     0.96975,     0.96969,     0.97002,     0.97014,     0.97041,     0.97045,     0.97049,     0.97053,     0.97057,     0.97061,     0.97067,     0.97073,     0.97078,      0.9706,     0.97063,\n",
              "            0.97067,     0.97071,     0.97075,     0.97079,     0.97086,     0.97098,     0.97108,      0.9712,      0.9712,     0.97107,     0.97145,     0.97141,     0.97137,     0.97132,     0.97128,     0.97124,     0.97138,     0.97125,     0.97129,     0.97141,     0.97141,     0.97137,     0.97133,\n",
              "            0.97129,     0.97124,      0.9712,     0.97117,     0.97115,     0.97112,      0.9711,     0.97107,     0.97104,     0.97102,     0.97099,     0.97096,     0.97097,     0.97103,     0.97109,     0.97115,     0.97118,      0.9712,     0.97122,     0.97124,     0.97126,     0.97128,      0.9713,\n",
              "            0.97132,     0.97134,     0.97136,     0.97138,      0.9714,     0.97128,     0.97115,     0.97108,     0.97101,     0.97094,     0.97083,     0.97071,     0.97071,     0.97076,     0.97082,     0.97088,      0.9708,     0.97067,     0.97098,      0.9711,     0.97097,     0.97033,      0.9702,\n",
              "            0.97011,     0.97007,     0.97003,     0.96999,     0.96994,      0.9699,     0.96993,     0.96999,     0.97006,     0.96985,     0.96972,     0.96959,     0.96947,     0.96936,     0.96932,     0.96927,     0.96923,     0.96918,     0.96914,     0.96877,     0.96864,      0.9686,     0.96855,\n",
              "            0.96851,     0.96847,     0.96843,     0.96815,     0.96816,     0.96817,     0.96818,     0.96819,      0.9682,     0.96822,     0.96823,     0.96824,     0.96825,     0.96826,     0.96828,     0.96829,      0.9683,     0.96831,     0.96832,     0.96834,     0.96835,     0.96836,     0.96837,\n",
              "             0.9683,     0.96817,      0.9681,     0.96805,     0.96801,     0.96796,     0.96791,     0.96737,     0.96729,     0.96722,     0.96715,     0.96747,     0.96759,     0.96754,     0.96746,     0.96739,     0.96734,      0.9673,     0.96726,     0.96723,     0.96719,     0.96715,     0.96712,\n",
              "            0.96684,     0.96681,     0.96678,     0.96675,     0.96673,      0.9667,     0.96667,     0.96664,     0.96661,     0.96667,     0.96674,     0.96681,     0.96631,     0.96624,     0.96617,     0.96535,     0.96527,      0.9652,     0.96513,     0.96499,     0.96438,      0.9645,      0.9646,\n",
              "            0.96467,     0.96474,     0.96481,     0.96461,     0.96466,      0.9647,     0.96475,      0.9648,     0.96464,     0.96445,     0.96354,     0.96366,     0.96376,     0.96359,     0.96316,     0.96301,     0.96293,     0.96286,     0.96279,     0.96264,     0.96223,     0.96215,     0.96208,\n",
              "            0.96201,     0.96135,     0.96096,     0.96089,     0.96081,     0.96074,     0.96032,     0.96015,     0.95997,      0.9598,     0.95915,     0.95902,      0.9581,     0.95768,      0.9575,     0.95657,     0.95614,     0.95597,     0.95501,     0.95461,     0.95454,     0.95446,     0.95439,\n",
              "            0.95422,     0.95277,      0.9526,     0.95242,     0.95071,     0.94976,     0.94958,     0.94896,      0.9489,     0.94884,     0.94878,      0.9469,     0.94672,     0.94602,     0.94533,     0.94515,     0.94367,     0.94271,     0.94253,     0.93948,     0.93851,     0.93833,     0.93604,\n",
              "             0.9348,     0.93356,     0.93338,      0.9321,     0.92897,     0.92599,      0.9258,       0.924,     0.92192,     0.92173,     0.91773,     0.91425,     0.91406,     0.91028,     0.90784,     0.90507,     0.90488,     0.90188,     0.90056,     0.90037,     0.89639,     0.89477,     0.89143,\n",
              "            0.88749,     0.88729,     0.88588,     0.88361,     0.87932,     0.87912,     0.87738,      0.8739,      0.8731,      0.8729,     0.87047,     0.86666,     0.86223,     0.86203,     0.85808,     0.85665,     0.85547,     0.85354,     0.85061,     0.84859,     0.84838,     0.84186,     0.83488,\n",
              "            0.83146,     0.82601,     0.82579,     0.81835,     0.81152,     0.80561,     0.79858,     0.79835,     0.79054,     0.78513,     0.77684,     0.76873,     0.76485,     0.76461,     0.75706,     0.74115,      0.7409,     0.72895,     0.72095,     0.71602,     0.70839,     0.69972,     0.68733,\n",
              "            0.68706,      0.6769,     0.66739,     0.65984,     0.65488,      0.6447,     0.63733,     0.62812,     0.62146,      0.6157,     0.61539,      0.6077,       0.593,     0.58552,     0.57607,     0.56745,     0.56067,     0.55238,     0.55204,     0.54467,     0.53768,     0.53061,     0.52603,\n",
              "            0.52193,      0.5173,     0.51367,     0.50532,     0.49953,     0.49369,     0.48833,     0.48456,     0.48023,     0.46544,     0.46018,     0.45403,     0.45064,     0.44214,     0.44042,     0.43468,     0.42948,     0.42454,     0.41943,      0.4153,     0.41115,     0.40619,     0.39769,\n",
              "            0.39041,     0.38491,     0.36852,     0.36098,     0.35052,     0.34021,     0.31528,     0.30451,     0.29674,     0.28507,     0.26446,     0.25153,     0.24189,     0.23239,     0.21274,     0.20426,     0.19492,     0.17755,     0.17102,     0.16693,       0.159,     0.14415,     0.13568,\n",
              "            0.12452,     0.11998,     0.11411,     0.10529,    0.094687,    0.087768,    0.078329,    0.077335,    0.071332,    0.066112,    0.065513,    0.060544,    0.058069,    0.056034,    0.050032,    0.047936,     0.04431,    0.042355,    0.038731,    0.037481,    0.036864,    0.035953,     0.03442,\n",
              "           0.033169,    0.031805,    0.031186,    0.030813,    0.030373,    0.029485,    0.028862,    0.028346,    0.027878,    0.027297,    0.025426,    0.024281,    0.022965,    0.022696,    0.022428,     0.02202,    0.021393,    0.020474,    0.018478,    0.018242,    0.018006,     0.01777,    0.016608,\n",
              "           0.015268,    0.013859,     0.01291,   0.0099434,   0.0071066,   0.0044705,   0.0035128,   0.0027371,   0.0024631,    0.002189,   0.0019148,           0,           0,           0,           0,           0,           0,           0,           0,           0,           0,           0,           0,\n",
              "                  0,           0,           0,           0,           0,           0,           0,           0,           0,           0,           0,           0,           0,           0,           0,           0,           0,           0,           0,           0,           0,           0,           0,\n",
              "                  0,           0,           0,           0,           0,           0,           0,           0,           0,           0,           0]]), 'Confidence', 'F1'], [array([          0,    0.001001,    0.002002,    0.003003,    0.004004,    0.005005,    0.006006,    0.007007,    0.008008,    0.009009,     0.01001,    0.011011,    0.012012,    0.013013,    0.014014,    0.015015,    0.016016,    0.017017,    0.018018,    0.019019,     0.02002,    0.021021,    0.022022,    0.023023,\n",
              "          0.024024,    0.025025,    0.026026,    0.027027,    0.028028,    0.029029,     0.03003,    0.031031,    0.032032,    0.033033,    0.034034,    0.035035,    0.036036,    0.037037,    0.038038,    0.039039,     0.04004,    0.041041,    0.042042,    0.043043,    0.044044,    0.045045,    0.046046,    0.047047,\n",
              "          0.048048,    0.049049,     0.05005,    0.051051,    0.052052,    0.053053,    0.054054,    0.055055,    0.056056,    0.057057,    0.058058,    0.059059,     0.06006,    0.061061,    0.062062,    0.063063,    0.064064,    0.065065,    0.066066,    0.067067,    0.068068,    0.069069,     0.07007,    0.071071,\n",
              "          0.072072,    0.073073,    0.074074,    0.075075,    0.076076,    0.077077,    0.078078,    0.079079,     0.08008,    0.081081,    0.082082,    0.083083,    0.084084,    0.085085,    0.086086,    0.087087,    0.088088,    0.089089,     0.09009,    0.091091,    0.092092,    0.093093,    0.094094,    0.095095,\n",
              "          0.096096,    0.097097,    0.098098,    0.099099,      0.1001,      0.1011,      0.1021,      0.1031,      0.1041,     0.10511,     0.10611,     0.10711,     0.10811,     0.10911,     0.11011,     0.11111,     0.11211,     0.11311,     0.11411,     0.11512,     0.11612,     0.11712,     0.11812,     0.11912,\n",
              "           0.12012,     0.12112,     0.12212,     0.12312,     0.12412,     0.12513,     0.12613,     0.12713,     0.12813,     0.12913,     0.13013,     0.13113,     0.13213,     0.13313,     0.13413,     0.13514,     0.13614,     0.13714,     0.13814,     0.13914,     0.14014,     0.14114,     0.14214,     0.14314,\n",
              "           0.14414,     0.14515,     0.14615,     0.14715,     0.14815,     0.14915,     0.15015,     0.15115,     0.15215,     0.15315,     0.15415,     0.15516,     0.15616,     0.15716,     0.15816,     0.15916,     0.16016,     0.16116,     0.16216,     0.16316,     0.16416,     0.16517,     0.16617,     0.16717,\n",
              "           0.16817,     0.16917,     0.17017,     0.17117,     0.17217,     0.17317,     0.17417,     0.17518,     0.17618,     0.17718,     0.17818,     0.17918,     0.18018,     0.18118,     0.18218,     0.18318,     0.18418,     0.18519,     0.18619,     0.18719,     0.18819,     0.18919,     0.19019,     0.19119,\n",
              "           0.19219,     0.19319,     0.19419,      0.1952,      0.1962,      0.1972,      0.1982,      0.1992,      0.2002,      0.2012,      0.2022,      0.2032,      0.2042,     0.20521,     0.20621,     0.20721,     0.20821,     0.20921,     0.21021,     0.21121,     0.21221,     0.21321,     0.21421,     0.21522,\n",
              "           0.21622,     0.21722,     0.21822,     0.21922,     0.22022,     0.22122,     0.22222,     0.22322,     0.22422,     0.22523,     0.22623,     0.22723,     0.22823,     0.22923,     0.23023,     0.23123,     0.23223,     0.23323,     0.23423,     0.23524,     0.23624,     0.23724,     0.23824,     0.23924,\n",
              "           0.24024,     0.24124,     0.24224,     0.24324,     0.24424,     0.24525,     0.24625,     0.24725,     0.24825,     0.24925,     0.25025,     0.25125,     0.25225,     0.25325,     0.25425,     0.25526,     0.25626,     0.25726,     0.25826,     0.25926,     0.26026,     0.26126,     0.26226,     0.26326,\n",
              "           0.26426,     0.26527,     0.26627,     0.26727,     0.26827,     0.26927,     0.27027,     0.27127,     0.27227,     0.27327,     0.27427,     0.27528,     0.27628,     0.27728,     0.27828,     0.27928,     0.28028,     0.28128,     0.28228,     0.28328,     0.28428,     0.28529,     0.28629,     0.28729,\n",
              "           0.28829,     0.28929,     0.29029,     0.29129,     0.29229,     0.29329,     0.29429,      0.2953,      0.2963,      0.2973,      0.2983,      0.2993,      0.3003,      0.3013,      0.3023,      0.3033,      0.3043,     0.30531,     0.30631,     0.30731,     0.30831,     0.30931,     0.31031,     0.31131,\n",
              "           0.31231,     0.31331,     0.31431,     0.31532,     0.31632,     0.31732,     0.31832,     0.31932,     0.32032,     0.32132,     0.32232,     0.32332,     0.32432,     0.32533,     0.32633,     0.32733,     0.32833,     0.32933,     0.33033,     0.33133,     0.33233,     0.33333,     0.33433,     0.33534,\n",
              "           0.33634,     0.33734,     0.33834,     0.33934,     0.34034,     0.34134,     0.34234,     0.34334,     0.34434,     0.34535,     0.34635,     0.34735,     0.34835,     0.34935,     0.35035,     0.35135,     0.35235,     0.35335,     0.35435,     0.35536,     0.35636,     0.35736,     0.35836,     0.35936,\n",
              "           0.36036,     0.36136,     0.36236,     0.36336,     0.36436,     0.36537,     0.36637,     0.36737,     0.36837,     0.36937,     0.37037,     0.37137,     0.37237,     0.37337,     0.37437,     0.37538,     0.37638,     0.37738,     0.37838,     0.37938,     0.38038,     0.38138,     0.38238,     0.38338,\n",
              "           0.38438,     0.38539,     0.38639,     0.38739,     0.38839,     0.38939,     0.39039,     0.39139,     0.39239,     0.39339,     0.39439,      0.3954,      0.3964,      0.3974,      0.3984,      0.3994,      0.4004,      0.4014,      0.4024,      0.4034,      0.4044,     0.40541,     0.40641,     0.40741,\n",
              "           0.40841,     0.40941,     0.41041,     0.41141,     0.41241,     0.41341,     0.41441,     0.41542,     0.41642,     0.41742,     0.41842,     0.41942,     0.42042,     0.42142,     0.42242,     0.42342,     0.42442,     0.42543,     0.42643,     0.42743,     0.42843,     0.42943,     0.43043,     0.43143,\n",
              "           0.43243,     0.43343,     0.43443,     0.43544,     0.43644,     0.43744,     0.43844,     0.43944,     0.44044,     0.44144,     0.44244,     0.44344,     0.44444,     0.44545,     0.44645,     0.44745,     0.44845,     0.44945,     0.45045,     0.45145,     0.45245,     0.45345,     0.45445,     0.45546,\n",
              "           0.45646,     0.45746,     0.45846,     0.45946,     0.46046,     0.46146,     0.46246,     0.46346,     0.46446,     0.46547,     0.46647,     0.46747,     0.46847,     0.46947,     0.47047,     0.47147,     0.47247,     0.47347,     0.47447,     0.47548,     0.47648,     0.47748,     0.47848,     0.47948,\n",
              "           0.48048,     0.48148,     0.48248,     0.48348,     0.48448,     0.48549,     0.48649,     0.48749,     0.48849,     0.48949,     0.49049,     0.49149,     0.49249,     0.49349,     0.49449,      0.4955,      0.4965,      0.4975,      0.4985,      0.4995,      0.5005,      0.5015,      0.5025,      0.5035,\n",
              "            0.5045,     0.50551,     0.50651,     0.50751,     0.50851,     0.50951,     0.51051,     0.51151,     0.51251,     0.51351,     0.51451,     0.51552,     0.51652,     0.51752,     0.51852,     0.51952,     0.52052,     0.52152,     0.52252,     0.52352,     0.52452,     0.52553,     0.52653,     0.52753,\n",
              "           0.52853,     0.52953,     0.53053,     0.53153,     0.53253,     0.53353,     0.53453,     0.53554,     0.53654,     0.53754,     0.53854,     0.53954,     0.54054,     0.54154,     0.54254,     0.54354,     0.54454,     0.54555,     0.54655,     0.54755,     0.54855,     0.54955,     0.55055,     0.55155,\n",
              "           0.55255,     0.55355,     0.55455,     0.55556,     0.55656,     0.55756,     0.55856,     0.55956,     0.56056,     0.56156,     0.56256,     0.56356,     0.56456,     0.56557,     0.56657,     0.56757,     0.56857,     0.56957,     0.57057,     0.57157,     0.57257,     0.57357,     0.57457,     0.57558,\n",
              "           0.57658,     0.57758,     0.57858,     0.57958,     0.58058,     0.58158,     0.58258,     0.58358,     0.58458,     0.58559,     0.58659,     0.58759,     0.58859,     0.58959,     0.59059,     0.59159,     0.59259,     0.59359,     0.59459,      0.5956,      0.5966,      0.5976,      0.5986,      0.5996,\n",
              "            0.6006,      0.6016,      0.6026,      0.6036,      0.6046,     0.60561,     0.60661,     0.60761,     0.60861,     0.60961,     0.61061,     0.61161,     0.61261,     0.61361,     0.61461,     0.61562,     0.61662,     0.61762,     0.61862,     0.61962,     0.62062,     0.62162,     0.62262,     0.62362,\n",
              "           0.62462,     0.62563,     0.62663,     0.62763,     0.62863,     0.62963,     0.63063,     0.63163,     0.63263,     0.63363,     0.63463,     0.63564,     0.63664,     0.63764,     0.63864,     0.63964,     0.64064,     0.64164,     0.64264,     0.64364,     0.64464,     0.64565,     0.64665,     0.64765,\n",
              "           0.64865,     0.64965,     0.65065,     0.65165,     0.65265,     0.65365,     0.65465,     0.65566,     0.65666,     0.65766,     0.65866,     0.65966,     0.66066,     0.66166,     0.66266,     0.66366,     0.66466,     0.66567,     0.66667,     0.66767,     0.66867,     0.66967,     0.67067,     0.67167,\n",
              "           0.67267,     0.67367,     0.67467,     0.67568,     0.67668,     0.67768,     0.67868,     0.67968,     0.68068,     0.68168,     0.68268,     0.68368,     0.68468,     0.68569,     0.68669,     0.68769,     0.68869,     0.68969,     0.69069,     0.69169,     0.69269,     0.69369,     0.69469,      0.6957,\n",
              "            0.6967,      0.6977,      0.6987,      0.6997,      0.7007,      0.7017,      0.7027,      0.7037,      0.7047,     0.70571,     0.70671,     0.70771,     0.70871,     0.70971,     0.71071,     0.71171,     0.71271,     0.71371,     0.71471,     0.71572,     0.71672,     0.71772,     0.71872,     0.71972,\n",
              "           0.72072,     0.72172,     0.72272,     0.72372,     0.72472,     0.72573,     0.72673,     0.72773,     0.72873,     0.72973,     0.73073,     0.73173,     0.73273,     0.73373,     0.73473,     0.73574,     0.73674,     0.73774,     0.73874,     0.73974,     0.74074,     0.74174,     0.74274,     0.74374,\n",
              "           0.74474,     0.74575,     0.74675,     0.74775,     0.74875,     0.74975,     0.75075,     0.75175,     0.75275,     0.75375,     0.75475,     0.75576,     0.75676,     0.75776,     0.75876,     0.75976,     0.76076,     0.76176,     0.76276,     0.76376,     0.76476,     0.76577,     0.76677,     0.76777,\n",
              "           0.76877,     0.76977,     0.77077,     0.77177,     0.77277,     0.77377,     0.77477,     0.77578,     0.77678,     0.77778,     0.77878,     0.77978,     0.78078,     0.78178,     0.78278,     0.78378,     0.78478,     0.78579,     0.78679,     0.78779,     0.78879,     0.78979,     0.79079,     0.79179,\n",
              "           0.79279,     0.79379,     0.79479,      0.7958,      0.7968,      0.7978,      0.7988,      0.7998,      0.8008,      0.8018,      0.8028,      0.8038,      0.8048,     0.80581,     0.80681,     0.80781,     0.80881,     0.80981,     0.81081,     0.81181,     0.81281,     0.81381,     0.81481,     0.81582,\n",
              "           0.81682,     0.81782,     0.81882,     0.81982,     0.82082,     0.82182,     0.82282,     0.82382,     0.82482,     0.82583,     0.82683,     0.82783,     0.82883,     0.82983,     0.83083,     0.83183,     0.83283,     0.83383,     0.83483,     0.83584,     0.83684,     0.83784,     0.83884,     0.83984,\n",
              "           0.84084,     0.84184,     0.84284,     0.84384,     0.84484,     0.84585,     0.84685,     0.84785,     0.84885,     0.84985,     0.85085,     0.85185,     0.85285,     0.85385,     0.85485,     0.85586,     0.85686,     0.85786,     0.85886,     0.85986,     0.86086,     0.86186,     0.86286,     0.86386,\n",
              "           0.86486,     0.86587,     0.86687,     0.86787,     0.86887,     0.86987,     0.87087,     0.87187,     0.87287,     0.87387,     0.87487,     0.87588,     0.87688,     0.87788,     0.87888,     0.87988,     0.88088,     0.88188,     0.88288,     0.88388,     0.88488,     0.88589,     0.88689,     0.88789,\n",
              "           0.88889,     0.88989,     0.89089,     0.89189,     0.89289,     0.89389,     0.89489,      0.8959,      0.8969,      0.8979,      0.8989,      0.8999,      0.9009,      0.9019,      0.9029,      0.9039,      0.9049,     0.90591,     0.90691,     0.90791,     0.90891,     0.90991,     0.91091,     0.91191,\n",
              "           0.91291,     0.91391,     0.91491,     0.91592,     0.91692,     0.91792,     0.91892,     0.91992,     0.92092,     0.92192,     0.92292,     0.92392,     0.92492,     0.92593,     0.92693,     0.92793,     0.92893,     0.92993,     0.93093,     0.93193,     0.93293,     0.93393,     0.93493,     0.93594,\n",
              "           0.93694,     0.93794,     0.93894,     0.93994,     0.94094,     0.94194,     0.94294,     0.94394,     0.94494,     0.94595,     0.94695,     0.94795,     0.94895,     0.94995,     0.95095,     0.95195,     0.95295,     0.95395,     0.95495,     0.95596,     0.95696,     0.95796,     0.95896,     0.95996,\n",
              "           0.96096,     0.96196,     0.96296,     0.96396,     0.96496,     0.96597,     0.96697,     0.96797,     0.96897,     0.96997,     0.97097,     0.97197,     0.97297,     0.97397,     0.97497,     0.97598,     0.97698,     0.97798,     0.97898,     0.97998,     0.98098,     0.98198,     0.98298,     0.98398,\n",
              "           0.98498,     0.98599,     0.98699,     0.98799,     0.98899,     0.98999,     0.99099,     0.99199,     0.99299,     0.99399,     0.99499,       0.996,       0.997,       0.998,       0.999,           1]), array([[    0.18416,     0.18416,     0.26665,      0.3268,     0.37357,     0.41295,     0.44846,     0.47542,     0.50026,     0.52131,     0.54392,     0.56119,     0.57718,     0.59195,     0.60359,      0.6146,     0.62528,     0.63642,     0.64619,     0.65673,     0.66519,      0.6739,     0.68073,\n",
              "             0.6887,     0.69771,     0.70466,     0.71182,     0.71791,     0.72291,     0.73134,     0.73568,      0.7395,     0.74361,     0.74909,     0.75431,     0.75895,     0.76241,     0.76598,     0.76897,     0.77317,      0.7765,     0.77967,     0.78152,     0.78556,     0.78858,     0.79047,\n",
              "            0.79366,     0.79619,     0.79826,     0.80116,      0.8044,     0.80654,     0.80856,     0.81197,     0.81512,     0.81632,       0.818,     0.82072,     0.82234,     0.82238,     0.82372,     0.82501,     0.82682,     0.83014,     0.83271,      0.8356,       0.837,      0.8387,     0.84052,\n",
              "            0.84156,     0.84341,     0.84445,     0.84511,     0.84568,     0.84698,     0.84963,     0.84995,     0.85177,      0.8527,     0.85344,     0.85374,     0.85521,     0.85584,     0.85819,     0.85876,      0.8601,     0.86211,      0.8648,     0.86508,     0.86689,     0.86728,     0.86838,\n",
              "            0.86948,     0.86996,     0.87029,     0.87062,     0.87206,     0.87258,     0.87477,     0.87603,      0.8771,     0.87923,     0.88055,     0.88081,     0.88134,      0.8816,     0.88227,     0.88282,     0.88299,     0.88329,     0.88501,       0.886,     0.88813,     0.88877,     0.88922,\n",
              "            0.88954,     0.89021,     0.89078,     0.89101,     0.89125,     0.89234,     0.89255,     0.89272,     0.89304,     0.89327,     0.89406,     0.89486,     0.89504,     0.89566,     0.89694,      0.8978,     0.89827,     0.89891,     0.89964,     0.90111,      0.9014,      0.9023,     0.90252,\n",
              "            0.90287,     0.90348,     0.90389,     0.90426,     0.90455,     0.90454,     0.90479,     0.90528,      0.9057,     0.90618,     0.90639,     0.90663,     0.90697,     0.90743,      0.9077,     0.90795,     0.90822,     0.90854,     0.90923,     0.91004,     0.91048,     0.91063,     0.91079,\n",
              "            0.91113,     0.91225,     0.91311,     0.91335,     0.91353,     0.91404,     0.91462,     0.91493,     0.91517,      0.9158,     0.91612,     0.91624,     0.91637,     0.91668,     0.91743,     0.91767,     0.91804,     0.91841,     0.91875,     0.91937,     0.92023,     0.92047,     0.92147,\n",
              "            0.92194,     0.92224,     0.92248,     0.92312,     0.92335,     0.92348,      0.9236,     0.92372,     0.92383,     0.92394,     0.92406,     0.92417,     0.92464,      0.9251,     0.92526,     0.92542,     0.92542,     0.92556,     0.92578,     0.92608,     0.92622,     0.92667,     0.92689,\n",
              "            0.92708,     0.92721,     0.92734,     0.92752,     0.92814,     0.92835,     0.92844,     0.92853,     0.92862,     0.92875,     0.92909,     0.92972,     0.92992,     0.93086,     0.93118,     0.93191,     0.93237,     0.93288,     0.93287,     0.93287,     0.93286,      0.9333,     0.93361,\n",
              "            0.93412,     0.93462,     0.93494,     0.93523,     0.93571,     0.93753,     0.93773,     0.93836,     0.93855,     0.93875,     0.93947,     0.94016,     0.94035,     0.94052,     0.94064,     0.94075,     0.94087,     0.94091,     0.94091,      0.9409,      0.9409,      0.9409,      0.9409,\n",
              "             0.9409,      0.9409,     0.94089,     0.94089,     0.94089,     0.94089,     0.94089,     0.94088,     0.94089,     0.94114,      0.9414,      0.9417,     0.94218,     0.94229,      0.9424,     0.94251,     0.94266,     0.94296,     0.94386,     0.94393,       0.944,     0.94407,     0.94414,\n",
              "             0.9442,     0.94427,     0.94433,      0.9444,     0.94446,     0.94452,     0.94458,     0.94464,      0.9447,     0.94491,     0.94525,     0.94621,     0.94659,     0.94688,     0.94714,     0.94736,     0.94749,     0.94763,     0.94778,     0.94804,     0.94819,     0.94818,     0.94817,\n",
              "            0.94861,     0.94866,     0.94871,     0.94876,      0.9488,     0.94885,      0.9489,     0.94895,       0.949,     0.94952,     0.94978,     0.94991,      0.9499,      0.9499,     0.94989,     0.94989,     0.95036,     0.95047,     0.95057,     0.95068,     0.95078,     0.95085,     0.95092,\n",
              "            0.95099,     0.95106,     0.95113,     0.95121,     0.95132,     0.95142,     0.95153,     0.95163,     0.95189,      0.9522,     0.95254,     0.95264,     0.95274,     0.95284,     0.95294,     0.95301,     0.95308,     0.95314,      0.9532,     0.95327,     0.95333,     0.95341,     0.95364,\n",
              "            0.95427,     0.95446,     0.95464,     0.95485,     0.95508,     0.95513,     0.95513,     0.95512,     0.95512,      0.9552,     0.95546,     0.95629,     0.95674,     0.95697,      0.9571,     0.95723,     0.95739,     0.95762,      0.9583,     0.95856,     0.95925,     0.95948,     0.95966,\n",
              "            0.95983,        0.96,     0.96007,     0.96014,     0.96021,     0.96028,     0.96035,     0.96042,      0.9605,     0.96058,     0.96067,     0.96075,     0.96083,     0.96089,     0.96088,     0.96095,     0.96118,     0.96142,     0.96168,     0.96193,     0.96216,      0.9622,     0.96264,\n",
              "            0.96287,     0.96309,     0.96313,     0.96317,     0.96321,     0.96325,     0.96329,     0.96333,     0.96337,     0.96341,     0.96345,     0.96349,     0.96353,     0.96409,     0.96421,     0.96434,     0.96444,     0.96443,     0.96443,     0.96442,     0.96492,     0.96515,     0.96578,\n",
              "            0.96591,     0.96603,     0.96616,     0.96696,     0.96721,     0.96737,     0.96752,     0.96762,      0.9677,     0.96778,     0.96787,     0.96795,     0.96805,     0.96829,     0.96852,     0.96875,     0.96941,     0.96953,     0.96965,     0.96976,     0.96984,     0.96984,     0.96984,\n",
              "            0.96983,     0.96983,     0.96983,     0.96983,     0.96983,     0.96983,     0.96983,     0.96982,     0.96982,     0.96982,     0.96982,     0.96982,     0.96981,     0.96981,     0.97027,     0.97031,     0.97035,     0.97039,     0.97043,     0.97047,     0.97051,     0.97055,     0.97059,\n",
              "            0.97063,     0.97067,     0.97071,     0.97117,     0.97116,      0.9716,     0.97159,     0.97175,     0.97198,     0.97221,     0.97244,     0.97249,     0.97249,     0.97268,     0.97292,     0.97315,     0.97339,     0.97408,     0.97431,     0.97482,     0.97486,      0.9749,     0.97494,\n",
              "            0.97498,     0.97502,     0.97506,      0.9751,     0.97514,     0.97518,     0.97522,     0.97578,     0.97601,      0.9762,     0.97628,     0.97636,     0.97644,     0.97652,      0.9766,     0.97675,     0.97699,     0.97723,     0.97747,     0.97811,     0.97823,     0.97835,     0.97847,\n",
              "            0.97851,      0.9785,     0.97867,     0.97891,     0.97915,     0.97939,     0.97943,     0.97943,     0.97943,     0.97943,     0.98011,     0.98035,     0.98091,     0.98099,     0.98107,     0.98115,     0.98123,     0.98131,     0.98143,     0.98156,     0.98168,     0.98178,     0.98186,\n",
              "            0.98194,     0.98202,      0.9821,     0.98218,     0.98232,     0.98256,     0.98326,     0.98351,     0.98411,     0.98411,     0.98505,     0.98505,     0.98505,     0.98505,     0.98505,     0.98505,     0.98552,     0.98552,     0.98568,     0.98592,     0.98599,     0.98599,     0.98599,\n",
              "            0.98599,     0.98598,     0.98598,     0.98598,     0.98598,     0.98598,     0.98598,     0.98598,     0.98598,     0.98598,     0.98598,     0.98598,     0.98652,     0.98664,     0.98677,     0.98689,     0.98695,     0.98699,     0.98704,     0.98708,     0.98712,     0.98716,      0.9872,\n",
              "            0.98724,     0.98728,     0.98732,     0.98736,      0.9874,      0.9874,      0.9874,      0.9874,     0.98739,     0.98739,     0.98739,     0.98739,     0.98747,     0.98759,     0.98771,     0.98784,     0.98786,     0.98786,     0.98854,     0.98879,     0.98882,      0.9888,      0.9888,\n",
              "             0.9888,      0.9888,     0.98879,     0.98879,     0.98879,     0.98879,     0.98888,     0.98902,     0.98916,     0.98927,     0.98927,     0.98926,     0.98926,     0.98926,     0.98926,     0.98926,     0.98925,     0.98925,     0.98925,     0.98924,     0.98924,     0.98924,     0.98924,\n",
              "            0.98924,     0.98924,     0.98924,     0.98923,     0.98926,     0.98928,     0.98931,     0.98933,     0.98936,     0.98938,     0.98941,     0.98943,     0.98946,     0.98948,     0.98951,     0.98953,     0.98956,     0.98958,     0.98961,     0.98963,     0.98966,     0.98968,     0.98971,\n",
              "            0.98971,     0.98971,     0.98971,     0.98971,     0.98971,     0.98971,     0.98971,      0.9897,     0.98969,     0.98969,     0.98969,     0.99039,     0.99064,     0.99066,     0.99066,     0.99066,     0.99066,     0.99066,     0.99066,     0.99066,     0.99066,     0.99066,     0.99065,\n",
              "            0.99065,     0.99065,     0.99065,     0.99065,     0.99065,     0.99065,     0.99065,     0.99065,     0.99065,     0.99077,     0.99092,     0.99106,     0.99112,     0.99112,     0.99112,     0.99111,     0.99111,      0.9911,      0.9911,      0.9911,     0.99114,     0.99139,     0.99161,\n",
              "            0.99176,      0.9919,     0.99205,     0.99215,     0.99225,     0.99235,     0.99245,     0.99255,     0.99256,     0.99304,     0.99304,     0.99329,     0.99353,     0.99352,     0.99352,     0.99352,     0.99352,     0.99351,     0.99351,     0.99351,       0.994,       0.994,       0.994,\n",
              "              0.994,     0.99399,     0.99398,     0.99398,     0.99398,     0.99398,     0.99398,     0.99397,     0.99397,     0.99397,     0.99396,     0.99396,     0.99395,     0.99395,     0.99394,     0.99393,     0.99393,     0.99392,     0.99441,     0.99441,     0.99441,     0.99441,     0.99441,\n",
              "            0.99441,     0.99439,     0.99439,     0.99439,     0.99437,     0.99436,     0.99435,     0.99435,     0.99435,     0.99435,     0.99435,     0.99432,     0.99432,     0.99431,     0.99431,      0.9943,     0.99429,     0.99428,     0.99427,     0.99424,     0.99423,     0.99423,      0.9942,\n",
              "            0.99419,     0.99417,     0.99417,     0.99468,     0.99465,     0.99515,     0.99515,     0.99513,     0.99511,     0.99511,     0.99507,     0.99503,     0.99503,     0.99499,     0.99497,     0.99494,     0.99494,     0.99491,     0.99489,     0.99489,     0.99485,     0.99483,      0.9948,\n",
              "            0.99476,     0.99476,     0.99474,     0.99472,     0.99467,     0.99467,     0.99465,     0.99461,      0.9946,      0.9946,     0.99517,     0.99514,     0.99509,     0.99509,     0.99505,     0.99504,     0.99502,     0.99521,      0.9956,     0.99684,     0.99683,     0.99679,     0.99739,\n",
              "            0.99738,     0.99735,     0.99734,      0.9973,     0.99726,     0.99723,     0.99719,     0.99719,     0.99714,     0.99711,     0.99706,     0.99701,     0.99699,     0.99698,     0.99693,     0.99762,     0.99762,     0.99756,     0.99751,     0.99749,     0.99915,     0.99913,     0.99911,\n",
              "             0.9991,     0.99908,     0.99906,     0.99905,     0.99904,     0.99902,       0.999,     0.99898,     0.99896,     0.99895,     0.99895,     0.99893,     0.99889,     0.99887,     0.99884,     0.99882,      0.9988,     0.99877,     0.99877,     0.99875,     0.99873,      0.9987,     0.99869,\n",
              "            0.99867,     0.99866,     0.99865,     0.99862,     0.99859,     0.99857,     0.99855,     0.99854,     0.99852,     0.99846,     0.99843,     0.99841,     0.99839,     0.99835,     0.99834,     0.99831,     0.99829,     0.99826,           1,           1,           1,           1,           1,\n",
              "                  1,           1,           1,           1,           1,           1,           1,           1,           1,           1,           1,           1,           1,           1,           1,           1,           1,           1,           1,           1,           1,           1,           1,\n",
              "                  1,           1,           1,           1,           1,           1,           1,           1,           1,           1,           1,           1,           1,           1,           1,           1,           1,           1,           1,           1,           1,           1,           1,\n",
              "                  1,           1,           1,           1,           1,           1,           1,           1,           1,           1,           1,           1,           1,           1,           1,           1,           1,           1,           1,           1,           1,           1,           1,\n",
              "                  1,           1,           1,           1,           1,           1,           1,           1,           1,           1,           1,           1,           1,           1,           1,           1,           1,           1,           1,           1,           1,           1,           1,\n",
              "                  1,           1,           1,           1,           1,           1,           1,           1,           1,           1,           1,           1,           1,           1,           1,           1,           1,           1,           1,           1,           1,           1,           1,\n",
              "                  1,           1,           1,           1,           1,           1,           1,           1,           1,           1,           1]]), 'Confidence', 'Precision'], [array([          0,    0.001001,    0.002002,    0.003003,    0.004004,    0.005005,    0.006006,    0.007007,    0.008008,    0.009009,     0.01001,    0.011011,    0.012012,    0.013013,    0.014014,    0.015015,    0.016016,    0.017017,    0.018018,    0.019019,     0.02002,    0.021021,    0.022022,    0.023023,\n",
              "          0.024024,    0.025025,    0.026026,    0.027027,    0.028028,    0.029029,     0.03003,    0.031031,    0.032032,    0.033033,    0.034034,    0.035035,    0.036036,    0.037037,    0.038038,    0.039039,     0.04004,    0.041041,    0.042042,    0.043043,    0.044044,    0.045045,    0.046046,    0.047047,\n",
              "          0.048048,    0.049049,     0.05005,    0.051051,    0.052052,    0.053053,    0.054054,    0.055055,    0.056056,    0.057057,    0.058058,    0.059059,     0.06006,    0.061061,    0.062062,    0.063063,    0.064064,    0.065065,    0.066066,    0.067067,    0.068068,    0.069069,     0.07007,    0.071071,\n",
              "          0.072072,    0.073073,    0.074074,    0.075075,    0.076076,    0.077077,    0.078078,    0.079079,     0.08008,    0.081081,    0.082082,    0.083083,    0.084084,    0.085085,    0.086086,    0.087087,    0.088088,    0.089089,     0.09009,    0.091091,    0.092092,    0.093093,    0.094094,    0.095095,\n",
              "          0.096096,    0.097097,    0.098098,    0.099099,      0.1001,      0.1011,      0.1021,      0.1031,      0.1041,     0.10511,     0.10611,     0.10711,     0.10811,     0.10911,     0.11011,     0.11111,     0.11211,     0.11311,     0.11411,     0.11512,     0.11612,     0.11712,     0.11812,     0.11912,\n",
              "           0.12012,     0.12112,     0.12212,     0.12312,     0.12412,     0.12513,     0.12613,     0.12713,     0.12813,     0.12913,     0.13013,     0.13113,     0.13213,     0.13313,     0.13413,     0.13514,     0.13614,     0.13714,     0.13814,     0.13914,     0.14014,     0.14114,     0.14214,     0.14314,\n",
              "           0.14414,     0.14515,     0.14615,     0.14715,     0.14815,     0.14915,     0.15015,     0.15115,     0.15215,     0.15315,     0.15415,     0.15516,     0.15616,     0.15716,     0.15816,     0.15916,     0.16016,     0.16116,     0.16216,     0.16316,     0.16416,     0.16517,     0.16617,     0.16717,\n",
              "           0.16817,     0.16917,     0.17017,     0.17117,     0.17217,     0.17317,     0.17417,     0.17518,     0.17618,     0.17718,     0.17818,     0.17918,     0.18018,     0.18118,     0.18218,     0.18318,     0.18418,     0.18519,     0.18619,     0.18719,     0.18819,     0.18919,     0.19019,     0.19119,\n",
              "           0.19219,     0.19319,     0.19419,      0.1952,      0.1962,      0.1972,      0.1982,      0.1992,      0.2002,      0.2012,      0.2022,      0.2032,      0.2042,     0.20521,     0.20621,     0.20721,     0.20821,     0.20921,     0.21021,     0.21121,     0.21221,     0.21321,     0.21421,     0.21522,\n",
              "           0.21622,     0.21722,     0.21822,     0.21922,     0.22022,     0.22122,     0.22222,     0.22322,     0.22422,     0.22523,     0.22623,     0.22723,     0.22823,     0.22923,     0.23023,     0.23123,     0.23223,     0.23323,     0.23423,     0.23524,     0.23624,     0.23724,     0.23824,     0.23924,\n",
              "           0.24024,     0.24124,     0.24224,     0.24324,     0.24424,     0.24525,     0.24625,     0.24725,     0.24825,     0.24925,     0.25025,     0.25125,     0.25225,     0.25325,     0.25425,     0.25526,     0.25626,     0.25726,     0.25826,     0.25926,     0.26026,     0.26126,     0.26226,     0.26326,\n",
              "           0.26426,     0.26527,     0.26627,     0.26727,     0.26827,     0.26927,     0.27027,     0.27127,     0.27227,     0.27327,     0.27427,     0.27528,     0.27628,     0.27728,     0.27828,     0.27928,     0.28028,     0.28128,     0.28228,     0.28328,     0.28428,     0.28529,     0.28629,     0.28729,\n",
              "           0.28829,     0.28929,     0.29029,     0.29129,     0.29229,     0.29329,     0.29429,      0.2953,      0.2963,      0.2973,      0.2983,      0.2993,      0.3003,      0.3013,      0.3023,      0.3033,      0.3043,     0.30531,     0.30631,     0.30731,     0.30831,     0.30931,     0.31031,     0.31131,\n",
              "           0.31231,     0.31331,     0.31431,     0.31532,     0.31632,     0.31732,     0.31832,     0.31932,     0.32032,     0.32132,     0.32232,     0.32332,     0.32432,     0.32533,     0.32633,     0.32733,     0.32833,     0.32933,     0.33033,     0.33133,     0.33233,     0.33333,     0.33433,     0.33534,\n",
              "           0.33634,     0.33734,     0.33834,     0.33934,     0.34034,     0.34134,     0.34234,     0.34334,     0.34434,     0.34535,     0.34635,     0.34735,     0.34835,     0.34935,     0.35035,     0.35135,     0.35235,     0.35335,     0.35435,     0.35536,     0.35636,     0.35736,     0.35836,     0.35936,\n",
              "           0.36036,     0.36136,     0.36236,     0.36336,     0.36436,     0.36537,     0.36637,     0.36737,     0.36837,     0.36937,     0.37037,     0.37137,     0.37237,     0.37337,     0.37437,     0.37538,     0.37638,     0.37738,     0.37838,     0.37938,     0.38038,     0.38138,     0.38238,     0.38338,\n",
              "           0.38438,     0.38539,     0.38639,     0.38739,     0.38839,     0.38939,     0.39039,     0.39139,     0.39239,     0.39339,     0.39439,      0.3954,      0.3964,      0.3974,      0.3984,      0.3994,      0.4004,      0.4014,      0.4024,      0.4034,      0.4044,     0.40541,     0.40641,     0.40741,\n",
              "           0.40841,     0.40941,     0.41041,     0.41141,     0.41241,     0.41341,     0.41441,     0.41542,     0.41642,     0.41742,     0.41842,     0.41942,     0.42042,     0.42142,     0.42242,     0.42342,     0.42442,     0.42543,     0.42643,     0.42743,     0.42843,     0.42943,     0.43043,     0.43143,\n",
              "           0.43243,     0.43343,     0.43443,     0.43544,     0.43644,     0.43744,     0.43844,     0.43944,     0.44044,     0.44144,     0.44244,     0.44344,     0.44444,     0.44545,     0.44645,     0.44745,     0.44845,     0.44945,     0.45045,     0.45145,     0.45245,     0.45345,     0.45445,     0.45546,\n",
              "           0.45646,     0.45746,     0.45846,     0.45946,     0.46046,     0.46146,     0.46246,     0.46346,     0.46446,     0.46547,     0.46647,     0.46747,     0.46847,     0.46947,     0.47047,     0.47147,     0.47247,     0.47347,     0.47447,     0.47548,     0.47648,     0.47748,     0.47848,     0.47948,\n",
              "           0.48048,     0.48148,     0.48248,     0.48348,     0.48448,     0.48549,     0.48649,     0.48749,     0.48849,     0.48949,     0.49049,     0.49149,     0.49249,     0.49349,     0.49449,      0.4955,      0.4965,      0.4975,      0.4985,      0.4995,      0.5005,      0.5015,      0.5025,      0.5035,\n",
              "            0.5045,     0.50551,     0.50651,     0.50751,     0.50851,     0.50951,     0.51051,     0.51151,     0.51251,     0.51351,     0.51451,     0.51552,     0.51652,     0.51752,     0.51852,     0.51952,     0.52052,     0.52152,     0.52252,     0.52352,     0.52452,     0.52553,     0.52653,     0.52753,\n",
              "           0.52853,     0.52953,     0.53053,     0.53153,     0.53253,     0.53353,     0.53453,     0.53554,     0.53654,     0.53754,     0.53854,     0.53954,     0.54054,     0.54154,     0.54254,     0.54354,     0.54454,     0.54555,     0.54655,     0.54755,     0.54855,     0.54955,     0.55055,     0.55155,\n",
              "           0.55255,     0.55355,     0.55455,     0.55556,     0.55656,     0.55756,     0.55856,     0.55956,     0.56056,     0.56156,     0.56256,     0.56356,     0.56456,     0.56557,     0.56657,     0.56757,     0.56857,     0.56957,     0.57057,     0.57157,     0.57257,     0.57357,     0.57457,     0.57558,\n",
              "           0.57658,     0.57758,     0.57858,     0.57958,     0.58058,     0.58158,     0.58258,     0.58358,     0.58458,     0.58559,     0.58659,     0.58759,     0.58859,     0.58959,     0.59059,     0.59159,     0.59259,     0.59359,     0.59459,      0.5956,      0.5966,      0.5976,      0.5986,      0.5996,\n",
              "            0.6006,      0.6016,      0.6026,      0.6036,      0.6046,     0.60561,     0.60661,     0.60761,     0.60861,     0.60961,     0.61061,     0.61161,     0.61261,     0.61361,     0.61461,     0.61562,     0.61662,     0.61762,     0.61862,     0.61962,     0.62062,     0.62162,     0.62262,     0.62362,\n",
              "           0.62462,     0.62563,     0.62663,     0.62763,     0.62863,     0.62963,     0.63063,     0.63163,     0.63263,     0.63363,     0.63463,     0.63564,     0.63664,     0.63764,     0.63864,     0.63964,     0.64064,     0.64164,     0.64264,     0.64364,     0.64464,     0.64565,     0.64665,     0.64765,\n",
              "           0.64865,     0.64965,     0.65065,     0.65165,     0.65265,     0.65365,     0.65465,     0.65566,     0.65666,     0.65766,     0.65866,     0.65966,     0.66066,     0.66166,     0.66266,     0.66366,     0.66466,     0.66567,     0.66667,     0.66767,     0.66867,     0.66967,     0.67067,     0.67167,\n",
              "           0.67267,     0.67367,     0.67467,     0.67568,     0.67668,     0.67768,     0.67868,     0.67968,     0.68068,     0.68168,     0.68268,     0.68368,     0.68468,     0.68569,     0.68669,     0.68769,     0.68869,     0.68969,     0.69069,     0.69169,     0.69269,     0.69369,     0.69469,      0.6957,\n",
              "            0.6967,      0.6977,      0.6987,      0.6997,      0.7007,      0.7017,      0.7027,      0.7037,      0.7047,     0.70571,     0.70671,     0.70771,     0.70871,     0.70971,     0.71071,     0.71171,     0.71271,     0.71371,     0.71471,     0.71572,     0.71672,     0.71772,     0.71872,     0.71972,\n",
              "           0.72072,     0.72172,     0.72272,     0.72372,     0.72472,     0.72573,     0.72673,     0.72773,     0.72873,     0.72973,     0.73073,     0.73173,     0.73273,     0.73373,     0.73473,     0.73574,     0.73674,     0.73774,     0.73874,     0.73974,     0.74074,     0.74174,     0.74274,     0.74374,\n",
              "           0.74474,     0.74575,     0.74675,     0.74775,     0.74875,     0.74975,     0.75075,     0.75175,     0.75275,     0.75375,     0.75475,     0.75576,     0.75676,     0.75776,     0.75876,     0.75976,     0.76076,     0.76176,     0.76276,     0.76376,     0.76476,     0.76577,     0.76677,     0.76777,\n",
              "           0.76877,     0.76977,     0.77077,     0.77177,     0.77277,     0.77377,     0.77477,     0.77578,     0.77678,     0.77778,     0.77878,     0.77978,     0.78078,     0.78178,     0.78278,     0.78378,     0.78478,     0.78579,     0.78679,     0.78779,     0.78879,     0.78979,     0.79079,     0.79179,\n",
              "           0.79279,     0.79379,     0.79479,      0.7958,      0.7968,      0.7978,      0.7988,      0.7998,      0.8008,      0.8018,      0.8028,      0.8038,      0.8048,     0.80581,     0.80681,     0.80781,     0.80881,     0.80981,     0.81081,     0.81181,     0.81281,     0.81381,     0.81481,     0.81582,\n",
              "           0.81682,     0.81782,     0.81882,     0.81982,     0.82082,     0.82182,     0.82282,     0.82382,     0.82482,     0.82583,     0.82683,     0.82783,     0.82883,     0.82983,     0.83083,     0.83183,     0.83283,     0.83383,     0.83483,     0.83584,     0.83684,     0.83784,     0.83884,     0.83984,\n",
              "           0.84084,     0.84184,     0.84284,     0.84384,     0.84484,     0.84585,     0.84685,     0.84785,     0.84885,     0.84985,     0.85085,     0.85185,     0.85285,     0.85385,     0.85485,     0.85586,     0.85686,     0.85786,     0.85886,     0.85986,     0.86086,     0.86186,     0.86286,     0.86386,\n",
              "           0.86486,     0.86587,     0.86687,     0.86787,     0.86887,     0.86987,     0.87087,     0.87187,     0.87287,     0.87387,     0.87487,     0.87588,     0.87688,     0.87788,     0.87888,     0.87988,     0.88088,     0.88188,     0.88288,     0.88388,     0.88488,     0.88589,     0.88689,     0.88789,\n",
              "           0.88889,     0.88989,     0.89089,     0.89189,     0.89289,     0.89389,     0.89489,      0.8959,      0.8969,      0.8979,      0.8989,      0.8999,      0.9009,      0.9019,      0.9029,      0.9039,      0.9049,     0.90591,     0.90691,     0.90791,     0.90891,     0.90991,     0.91091,     0.91191,\n",
              "           0.91291,     0.91391,     0.91491,     0.91592,     0.91692,     0.91792,     0.91892,     0.91992,     0.92092,     0.92192,     0.92292,     0.92392,     0.92492,     0.92593,     0.92693,     0.92793,     0.92893,     0.92993,     0.93093,     0.93193,     0.93293,     0.93393,     0.93493,     0.93594,\n",
              "           0.93694,     0.93794,     0.93894,     0.93994,     0.94094,     0.94194,     0.94294,     0.94394,     0.94494,     0.94595,     0.94695,     0.94795,     0.94895,     0.94995,     0.95095,     0.95195,     0.95295,     0.95395,     0.95495,     0.95596,     0.95696,     0.95796,     0.95896,     0.95996,\n",
              "           0.96096,     0.96196,     0.96296,     0.96396,     0.96496,     0.96597,     0.96697,     0.96797,     0.96897,     0.96997,     0.97097,     0.97197,     0.97297,     0.97397,     0.97497,     0.97598,     0.97698,     0.97798,     0.97898,     0.97998,     0.98098,     0.98198,     0.98298,     0.98398,\n",
              "           0.98498,     0.98599,     0.98699,     0.98799,     0.98899,     0.98999,     0.99099,     0.99199,     0.99299,     0.99399,     0.99499,       0.996,       0.997,       0.998,       0.999,           1]), array([[    0.98687,     0.98687,     0.98593,     0.98593,     0.98546,     0.98546,     0.98546,     0.98499,     0.98499,     0.98499,     0.98452,     0.98405,     0.98405,     0.98405,     0.98405,     0.98358,     0.98311,     0.98311,     0.98218,     0.98218,     0.98218,     0.98218,     0.98218,\n",
              "            0.98218,     0.98218,     0.98218,     0.98171,     0.98171,     0.98124,     0.98124,     0.98124,     0.98124,     0.98124,     0.98077,      0.9803,      0.9803,      0.9803,      0.9803,      0.9803,      0.9803,      0.9803,      0.9803,      0.9803,     0.97936,     0.97936,     0.97936,\n",
              "            0.97936,     0.97889,     0.97889,     0.97889,     0.97889,     0.97889,     0.97842,     0.97831,     0.97749,     0.97702,     0.97702,     0.97702,     0.97696,     0.97655,     0.97655,     0.97655,     0.97655,     0.97651,     0.97589,     0.97561,     0.97561,     0.97561,     0.97514,\n",
              "            0.97514,     0.97514,     0.97514,     0.97514,     0.97514,     0.97514,     0.97514,     0.97514,     0.97514,     0.97467,     0.97467,     0.97467,     0.97467,     0.97467,     0.97467,     0.97467,     0.97467,     0.97467,     0.97467,     0.97467,     0.97467,     0.97467,     0.97467,\n",
              "            0.97467,     0.97467,     0.97467,     0.97467,     0.97467,     0.97467,     0.97467,     0.97467,     0.97467,     0.97467,     0.97467,     0.97467,     0.97467,     0.97467,     0.97467,     0.97467,     0.97467,     0.97467,     0.97467,     0.97467,     0.97467,     0.97467,     0.97467,\n",
              "            0.97467,     0.97467,     0.97467,     0.97467,     0.97467,     0.97467,     0.97405,     0.97373,     0.97373,     0.97373,     0.97373,     0.97373,     0.97373,     0.97373,     0.97373,     0.97373,     0.97373,     0.97373,     0.97373,     0.97373,     0.97373,     0.97373,     0.97373,\n",
              "            0.97373,     0.97373,     0.97373,     0.97373,     0.97373,     0.97329,     0.97326,      0.9728,      0.9728,      0.9728,      0.9728,      0.9728,      0.9728,      0.9728,      0.9728,      0.9728,      0.9728,      0.9728,     0.97233,     0.97233,     0.97233,     0.97233,     0.97233,\n",
              "            0.97233,     0.97233,     0.97233,     0.97233,     0.97233,     0.97233,     0.97233,     0.97233,     0.97233,     0.97233,     0.97233,     0.97233,     0.97233,     0.97233,     0.97233,     0.97233,     0.97233,     0.97233,     0.97233,     0.97233,     0.97233,     0.97233,     0.97233,\n",
              "            0.97233,     0.97233,     0.97233,     0.97233,     0.97233,     0.97233,     0.97233,     0.97233,     0.97233,     0.97233,     0.97233,     0.97233,     0.97233,     0.97233,     0.97233,     0.97233,       0.972,     0.97186,     0.97186,     0.97186,      0.9715,     0.97139,     0.97139,\n",
              "            0.97139,     0.97139,     0.97139,     0.97139,     0.97139,     0.97139,     0.97139,     0.97139,     0.97139,     0.97139,     0.97139,     0.97139,     0.97139,     0.97139,     0.97139,     0.97139,     0.97139,     0.97136,     0.97125,     0.97114,     0.97102,     0.97092,     0.97092,\n",
              "            0.97092,     0.97092,     0.97092,     0.97092,     0.97092,     0.97092,     0.97092,     0.97092,     0.97092,     0.97092,     0.97092,     0.97092,     0.97092,     0.97092,     0.97092,     0.97092,     0.97092,      0.9709,     0.97087,     0.97083,      0.9708,     0.97077,     0.97074,\n",
              "            0.97071,     0.97067,     0.97064,     0.97061,     0.97058,     0.97055,     0.97051,     0.97048,     0.97045,     0.97045,     0.97045,     0.97045,     0.97045,     0.97045,     0.97045,     0.97045,     0.97045,     0.97045,     0.96998,     0.96998,     0.96998,     0.96998,     0.96998,\n",
              "            0.96998,     0.96998,     0.96998,     0.96998,     0.96998,     0.96998,     0.96998,     0.96998,     0.96998,     0.96998,     0.96998,     0.96998,     0.96998,     0.96998,     0.96998,     0.96998,     0.96998,     0.96998,     0.96998,     0.96998,      0.9699,     0.96971,     0.96952,\n",
              "            0.96951,     0.96951,     0.96951,     0.96951,     0.96951,     0.96951,     0.96951,     0.96951,     0.96951,     0.96951,     0.96951,     0.96947,     0.96938,     0.96928,     0.96919,      0.9691,     0.96904,     0.96904,     0.96904,     0.96904,     0.96904,     0.96904,     0.96904,\n",
              "            0.96904,     0.96904,     0.96904,     0.96904,     0.96904,     0.96904,     0.96904,     0.96904,     0.96904,     0.96904,     0.96904,     0.96904,     0.96904,     0.96904,     0.96904,     0.96904,     0.96904,     0.96904,     0.96904,     0.96904,     0.96904,     0.96904,     0.96904,\n",
              "            0.96857,     0.96857,     0.96857,     0.96857,     0.96857,      0.9685,     0.96839,     0.96828,     0.96817,     0.96811,     0.96811,     0.96811,     0.96811,     0.96811,     0.96811,     0.96811,     0.96811,     0.96811,     0.96811,     0.96811,     0.96811,     0.96811,     0.96811,\n",
              "            0.96811,     0.96811,     0.96811,     0.96811,     0.96811,     0.96811,     0.96811,     0.96811,     0.96811,     0.96811,     0.96811,     0.96811,     0.96811,     0.96804,      0.9678,     0.96764,     0.96764,     0.96764,     0.96764,     0.96764,     0.96764,     0.96697,      0.9667,\n",
              "             0.9667,      0.9667,      0.9667,      0.9667,      0.9667,      0.9667,      0.9667,      0.9667,      0.9667,      0.9667,      0.9667,      0.9667,      0.9667,      0.9667,      0.9667,      0.9667,     0.96668,     0.96656,     0.96644,     0.96632,     0.96576,     0.96576,     0.96529,\n",
              "            0.96529,     0.96529,     0.96529,     0.96529,     0.96529,     0.96529,     0.96529,     0.96529,     0.96529,     0.96529,     0.96529,     0.96529,     0.96529,     0.96529,     0.96529,     0.96529,     0.96529,     0.96529,     0.96529,     0.96529,     0.96527,     0.96522,     0.96517,\n",
              "            0.96513,     0.96508,     0.96503,     0.96498,     0.96493,     0.96488,     0.96483,     0.96477,     0.96471,     0.96465,     0.96459,     0.96453,     0.96447,     0.96441,     0.96435,     0.96435,     0.96435,     0.96435,     0.96435,     0.96435,     0.96435,     0.96435,     0.96435,\n",
              "            0.96435,     0.96435,     0.96435,     0.96375,     0.96351,      0.9628,     0.96256,     0.96248,     0.96248,     0.96201,     0.96201,     0.96182,     0.96158,     0.96154,     0.96154,     0.96154,     0.96154,     0.96107,     0.96107,     0.96107,     0.96107,     0.96107,     0.96107,\n",
              "            0.96107,     0.96107,     0.96107,     0.96107,     0.96107,     0.96107,     0.96107,     0.96107,     0.96107,     0.96107,     0.96107,     0.96107,     0.96107,     0.96107,     0.96107,     0.96107,     0.96107,     0.96107,     0.96107,     0.96107,     0.96107,     0.96107,     0.96107,\n",
              "            0.96091,     0.96067,      0.9606,      0.9606,      0.9606,      0.9606,     0.96051,     0.96038,     0.96026,     0.96014,     0.96013,     0.96013,     0.96013,     0.96013,     0.96013,     0.96013,     0.96013,     0.96013,     0.96013,     0.96013,     0.96013,     0.95966,     0.95966,\n",
              "            0.95966,     0.95966,     0.95966,     0.95966,     0.95966,     0.95966,     0.95919,     0.95919,     0.95862,     0.95838,     0.95822,     0.95814,     0.95806,     0.95798,      0.9579,     0.95782,     0.95764,      0.9574,     0.95732,     0.95732,     0.95726,     0.95718,      0.9571,\n",
              "            0.95702,     0.95694,     0.95686,      0.9568,     0.95675,      0.9567,     0.95665,      0.9566,     0.95655,      0.9565,     0.95645,      0.9564,     0.95591,     0.95591,     0.95591,     0.95591,     0.95591,     0.95591,     0.95591,     0.95591,     0.95591,     0.95591,     0.95591,\n",
              "            0.95591,     0.95591,     0.95591,     0.95591,     0.95591,     0.95567,     0.95544,      0.9553,     0.95516,     0.95502,     0.95482,     0.95458,      0.9545,      0.9545,      0.9545,      0.9545,     0.95432,     0.95408,     0.95403,     0.95403,     0.95376,     0.95253,     0.95229,\n",
              "            0.95212,     0.95204,     0.95196,     0.95188,      0.9518,     0.95172,     0.95169,     0.95169,     0.95169,     0.95117,     0.95093,     0.95069,     0.95045,     0.95026,     0.95017,     0.95008,     0.94999,     0.94991,     0.94982,     0.94912,     0.94888,      0.9488,     0.94872,\n",
              "            0.94864,     0.94856,     0.94848,     0.94794,     0.94794,     0.94794,     0.94794,     0.94794,     0.94794,     0.94794,     0.94794,     0.94794,     0.94794,     0.94794,     0.94794,     0.94794,     0.94794,     0.94794,     0.94794,     0.94794,     0.94794,     0.94794,     0.94794,\n",
              "            0.94779,     0.94755,     0.94741,     0.94732,     0.94724,     0.94715,     0.94706,     0.94602,     0.94588,     0.94575,     0.94561,     0.94559,     0.94559,     0.94546,     0.94533,     0.94519,     0.94509,     0.94502,     0.94495,     0.94488,     0.94481,     0.94474,     0.94468,\n",
              "            0.94415,     0.94409,     0.94404,     0.94399,     0.94393,     0.94388,     0.94383,     0.94377,     0.94372,     0.94371,     0.94371,     0.94371,     0.94271,     0.94257,     0.94244,     0.94089,     0.94075,     0.94062,     0.94048,     0.94022,     0.93902,     0.93902,     0.93902,\n",
              "            0.93902,     0.93902,     0.93902,     0.93856,     0.93856,     0.93856,     0.93856,     0.93856,     0.93825,     0.93746,     0.93574,     0.93574,     0.93572,      0.9354,     0.93461,     0.93431,     0.93418,     0.93404,      0.9339,     0.93363,     0.93242,     0.93228,     0.93215,\n",
              "            0.93201,     0.93078,     0.93006,     0.92992,     0.92979,     0.92965,     0.92886,     0.92854,     0.92822,      0.9279,     0.92669,     0.92645,     0.92475,     0.92396,     0.92364,     0.92191,     0.92112,      0.9208,     0.91861,     0.91787,     0.91774,      0.9176,     0.91746,\n",
              "            0.91716,      0.9145,     0.91417,     0.91385,     0.91072,     0.90899,     0.90867,     0.90754,     0.90743,     0.90732,     0.90722,     0.90379,     0.90347,     0.90221,     0.90095,     0.90063,     0.89796,     0.89623,     0.89591,     0.89043,     0.88871,     0.88839,     0.88431,\n",
              "            0.88212,     0.87992,      0.8796,     0.87693,     0.87144,     0.86582,      0.8655,     0.86236,     0.85876,     0.85844,     0.85155,      0.8456,     0.84528,     0.83886,     0.83474,     0.83009,     0.82977,     0.82476,     0.82256,     0.82224,     0.81567,       0.813,     0.80752,\n",
              "             0.8011,     0.80078,     0.79849,     0.79483,     0.78794,     0.78762,     0.78484,     0.77932,     0.77806,     0.77774,     0.77354,     0.76756,     0.76067,     0.76035,     0.75426,     0.75205,     0.75025,     0.74719,     0.74249,     0.73873,     0.73841,     0.72861,     0.71791,\n",
              "            0.71288,     0.70492,      0.7046,     0.69385,      0.6841,     0.67576,     0.66595,     0.66563,     0.65486,     0.64748,     0.63631,     0.62551,      0.6204,     0.62008,     0.61023,     0.58958,     0.58926,     0.57431,     0.56445,     0.55844,     0.54871,     0.53838,     0.52386,\n",
              "            0.52354,     0.51185,     0.50105,     0.49259,     0.48708,     0.47592,     0.46793,     0.45807,     0.45102,     0.44498,     0.44466,     0.43668,     0.42166,     0.41414,     0.40475,      0.3963,     0.38972,     0.38176,     0.38143,     0.37444,     0.36786,     0.36128,     0.35705,\n",
              "            0.35329,     0.34905,     0.34576,     0.33824,     0.33307,      0.3279,      0.3232,      0.3199,     0.31614,     0.30345,     0.29899,     0.29382,       0.291,     0.28395,     0.28253,     0.27783,     0.27359,      0.2696,     0.26536,     0.26207,     0.25877,     0.25486,      0.2482,\n",
              "            0.24256,     0.23832,     0.22588,     0.22024,      0.2125,     0.20497,     0.18714,      0.1796,     0.17422,     0.16623,     0.15238,     0.14386,     0.13758,     0.13147,     0.11903,     0.11375,     0.10799,    0.097422,    0.093506,    0.091066,    0.086364,    0.077675,    0.072774,\n",
              "           0.066394,    0.063816,    0.060508,    0.055571,    0.049696,    0.045898,    0.040761,    0.040223,    0.036985,    0.034186,    0.033866,    0.031217,    0.029903,    0.028825,    0.025658,    0.024556,    0.022657,    0.021636,    0.019748,    0.019099,    0.018778,    0.018305,    0.017512,\n",
              "           0.016864,    0.016159,     0.01584,    0.015648,    0.015421,    0.014963,    0.014643,    0.014377,    0.014136,    0.013837,    0.012877,     0.01229,    0.011616,    0.011478,    0.011341,    0.011132,    0.010812,    0.010343,   0.0093253,   0.0092051,    0.009085,   0.0089648,   0.0083738,\n",
              "           0.007693,   0.0069777,   0.0064969,   0.0049966,   0.0035659,   0.0022403,   0.0017595,   0.0013704,   0.0012331,   0.0010957,  0.00095834,           0,           0,           0,           0,           0,           0,           0,           0,           0,           0,           0,           0,\n",
              "                  0,           0,           0,           0,           0,           0,           0,           0,           0,           0,           0,           0,           0,           0,           0,           0,           0,           0,           0,           0,           0,           0,           0,\n",
              "                  0,           0,           0,           0,           0,           0,           0,           0,           0,           0,           0]]), 'Confidence', 'Recall']]\n",
              "fitness: np.float64(0.7218546938553596)\n",
              "keys: ['metrics/precision(B)', 'metrics/recall(B)', 'metrics/mAP50(B)', 'metrics/mAP50-95(B)']\n",
              "maps: array([      0.693])\n",
              "names: {0: 'license_plate'}\n",
              "plot: True\n",
              "results_dict: {'metrics/precision(B)': np.float64(0.9859800075477893), 'metrics/recall(B)': np.float64(0.9566017088481787), 'metrics/mAP50(B)': np.float64(0.9815562104479574), 'metrics/mAP50-95(B)': np.float64(0.6929989697895154), 'fitness': np.float64(0.7218546938553596)}\n",
              "save_dir: PosixPath('runs/detect/license-plate2')\n",
              "speed: {'preprocess': 0.10770125012457661, 'inference': 2.8876146461066075, 'loss': 0.0003676896748692914, 'postprocess': 1.4864943470342673}\n",
              "task: 'detect'"
            ]
          },
          "execution_count": 6,
          "metadata": {},
          "output_type": "execute_result"
        }
      ],
      "source": [
        "from ultralytics import YOLO\n",
        "\n",
        "model = YOLO('yolov8n.pt')\n",
        "model.train(\n",
        "    data='/content/dataset/data.yaml',\n",
        "    epochs=50,\n",
        "    imgsz=416,\n",
        "    batch=16,\n",
        "    workers=2,\n",
        "    patience=5,\n",
        "    name='license-plate',\n",
        "    optimizer='SGD',\n",
        "    device=0,\n",
        "    val=True,\n",
        "    verbose=True,\n",
        "    augment=True\n",
        ")\n"
      ]
    }
  ],
  "metadata": {
    "accelerator": "GPU",
    "colab": {
      "gpuType": "T4",
      "provenance": []
    },
    "kernelspec": {
      "display_name": "Python 3",
      "name": "python3"
    },
    "language_info": {
      "name": "python"
    }
  },
  "nbformat": 4,
  "nbformat_minor": 0
}
